{
 "cells": [
  {
   "cell_type": "code",
   "execution_count": 1,
   "metadata": {},
   "outputs": [],
   "source": [
    "import pandas as pd\n",
    "import plotly.express as px"
   ]
  },
  {
   "cell_type": "code",
   "execution_count": 22,
   "metadata": {},
   "outputs": [
    {
     "data": {
      "text/html": [
       "<div>\n",
       "<style scoped>\n",
       "    .dataframe tbody tr th:only-of-type {\n",
       "        vertical-align: middle;\n",
       "    }\n",
       "\n",
       "    .dataframe tbody tr th {\n",
       "        vertical-align: top;\n",
       "    }\n",
       "\n",
       "    .dataframe thead th {\n",
       "        text-align: right;\n",
       "    }\n",
       "</style>\n",
       "<table border=\"1\" class=\"dataframe\">\n",
       "  <thead>\n",
       "    <tr style=\"text-align: right;\">\n",
       "      <th></th>\n",
       "      <th>aligner</th>\n",
       "      <th>background</th>\n",
       "      <th>sample</th>\n",
       "      <th>num_reads</th>\n",
       "      <th>sample_name</th>\n",
       "      <th>values</th>\n",
       "    </tr>\n",
       "  </thead>\n",
       "  <tbody>\n",
       "    <tr>\n",
       "      <th>0</th>\n",
       "      <td>bwa</td>\n",
       "      <td>wb</td>\n",
       "      <td>Mixture01</td>\n",
       "      <td>423031</td>\n",
       "      <td>wb-Mixture01</td>\n",
       "      <td>423031</td>\n",
       "    </tr>\n",
       "    <tr>\n",
       "      <th>1</th>\n",
       "      <td>bwa</td>\n",
       "      <td>wb</td>\n",
       "      <td>Mixture02</td>\n",
       "      <td>2477301</td>\n",
       "      <td>wb-Mixture02</td>\n",
       "      <td>2477301</td>\n",
       "    </tr>\n",
       "    <tr>\n",
       "      <th>2</th>\n",
       "      <td>bwa</td>\n",
       "      <td>wb</td>\n",
       "      <td>Mixture03</td>\n",
       "      <td>625803</td>\n",
       "      <td>wb-Mixture03</td>\n",
       "      <td>625803</td>\n",
       "    </tr>\n",
       "    <tr>\n",
       "      <th>3</th>\n",
       "      <td>bwa</td>\n",
       "      <td>wb</td>\n",
       "      <td>Mixture04</td>\n",
       "      <td>334617</td>\n",
       "      <td>wb-Mixture04</td>\n",
       "      <td>334617</td>\n",
       "    </tr>\n",
       "    <tr>\n",
       "      <th>4</th>\n",
       "      <td>bwa</td>\n",
       "      <td>wb</td>\n",
       "      <td>Mixture05</td>\n",
       "      <td>876549</td>\n",
       "      <td>wb-Mixture05</td>\n",
       "      <td>876549</td>\n",
       "    </tr>\n",
       "    <tr>\n",
       "      <th>...</th>\n",
       "      <td>...</td>\n",
       "      <td>...</td>\n",
       "      <td>...</td>\n",
       "      <td>...</td>\n",
       "      <td>...</td>\n",
       "      <td>...</td>\n",
       "    </tr>\n",
       "    <tr>\n",
       "      <th>247</th>\n",
       "      <td>minimap2</td>\n",
       "      <td>pwrb</td>\n",
       "      <td>Mixture38</td>\n",
       "      <td>295957</td>\n",
       "      <td>pwrb-Mixture38</td>\n",
       "      <td>-295957</td>\n",
       "    </tr>\n",
       "    <tr>\n",
       "      <th>248</th>\n",
       "      <td>minimap2</td>\n",
       "      <td>pwrb</td>\n",
       "      <td>Mixture39</td>\n",
       "      <td>468959</td>\n",
       "      <td>pwrb-Mixture39</td>\n",
       "      <td>-468959</td>\n",
       "    </tr>\n",
       "    <tr>\n",
       "      <th>249</th>\n",
       "      <td>minimap2</td>\n",
       "      <td>pwrb</td>\n",
       "      <td>Mixture40</td>\n",
       "      <td>411376</td>\n",
       "      <td>pwrb-Mixture40</td>\n",
       "      <td>-411376</td>\n",
       "    </tr>\n",
       "    <tr>\n",
       "      <th>250</th>\n",
       "      <td>minimap2</td>\n",
       "      <td>pwrb</td>\n",
       "      <td>Mixture41</td>\n",
       "      <td>542897</td>\n",
       "      <td>pwrb-Mixture41</td>\n",
       "      <td>-542897</td>\n",
       "    </tr>\n",
       "    <tr>\n",
       "      <th>251</th>\n",
       "      <td>minimap2</td>\n",
       "      <td>pwrb</td>\n",
       "      <td>Mixture42</td>\n",
       "      <td>403829</td>\n",
       "      <td>pwrb-Mixture42</td>\n",
       "      <td>-403829</td>\n",
       "    </tr>\n",
       "  </tbody>\n",
       "</table>\n",
       "<p>252 rows × 6 columns</p>\n",
       "</div>"
      ],
      "text/plain": [
       "      aligner background     sample  num_reads     sample_name   values\n",
       "0         bwa         wb  Mixture01     423031    wb-Mixture01   423031\n",
       "1         bwa         wb  Mixture02    2477301    wb-Mixture02  2477301\n",
       "2         bwa         wb  Mixture03     625803    wb-Mixture03   625803\n",
       "3         bwa         wb  Mixture04     334617    wb-Mixture04   334617\n",
       "4         bwa         wb  Mixture05     876549    wb-Mixture05   876549\n",
       "..        ...        ...        ...        ...             ...      ...\n",
       "247  minimap2       pwrb  Mixture38     295957  pwrb-Mixture38  -295957\n",
       "248  minimap2       pwrb  Mixture39     468959  pwrb-Mixture39  -468959\n",
       "249  minimap2       pwrb  Mixture40     411376  pwrb-Mixture40  -411376\n",
       "250  minimap2       pwrb  Mixture41     542897  pwrb-Mixture41  -542897\n",
       "251  minimap2       pwrb  Mixture42     403829  pwrb-Mixture42  -403829\n",
       "\n",
       "[252 rows x 6 columns]"
      ]
     },
     "execution_count": 22,
     "metadata": {},
     "output_type": "execute_result"
    }
   ],
   "source": [
    "bam_counts = pd.read_csv(\"bam_counts.csv\")\n",
    "bam_counts[\"sample_name\"] = bam_counts.apply(lambda row: f'{row[\"background\"]}-{row[\"sample\"]}', axis=1)\n",
    "bam_counts[\"values\"] = bam_counts.apply(lambda row: ((1 if row[\"aligner\"]==\"bwa\" else -1) * row[\"num_reads\"]), axis=1)\n",
    "bam_counts"
   ]
  },
  {
   "cell_type": "code",
   "execution_count": 30,
   "metadata": {},
   "outputs": [
    {
     "name": "stderr",
     "output_type": "stream",
     "text": [
      "/projects/enviro_lab/software/conda/env-plot/lib/python3.11/site-packages/plotly/express/_core.py:1985: FutureWarning:\n",
      "\n",
      "When grouping with a length-1 list-like, you will need to pass a length-1 tuple to get_group in a future version of pandas. Pass `(name,)` instead of `name` to silence this warning.\n",
      "\n"
     ]
    },
    {
     "data": {
      "application/vnd.plotly.v1+json": {
       "config": {
        "plotlyServerURL": "https://plot.ly"
       },
       "data": [
        {
         "alignmentgroup": "True",
         "hovertemplate": "aligner=bwa<br>sample_name=%{x}<br>values=%{y}<extra></extra>",
         "legendgroup": "bwa",
         "marker": {
          "color": "#636efa",
          "pattern": {
           "shape": ""
          }
         },
         "name": "bwa",
         "offsetgroup": "bwa",
         "orientation": "v",
         "showlegend": true,
         "textposition": "auto",
         "type": "bar",
         "x": [
          "wb-Mixture01",
          "wb-Mixture02",
          "wb-Mixture03",
          "wb-Mixture04",
          "wb-Mixture05",
          "wb-Mixture06",
          "wb-Mixture07",
          "wb-Mixture08",
          "wb-Mixture09",
          "wb-Mixture10",
          "wb-Mixture11",
          "wb-Mixture12",
          "wb-Mixture13",
          "wb-Mixture14",
          "wb-Mixture15",
          "wb-Mixture16",
          "wb-Mixture17",
          "wb-Mixture18",
          "wb-Mixture19",
          "wb-Mixture20",
          "wb-Mixture21",
          "wb-Mixture22",
          "wb-Mixture23",
          "wb-Mixture24",
          "wb-Mixture25",
          "wb-Mixture26",
          "wb-Mixture27",
          "wb-Mixture28",
          "wb-Mixture29",
          "wb-Mixture30",
          "wb-Mixture31",
          "wb-Mixture32",
          "wb-Mixture33",
          "wb-Mixture34",
          "wb-Mixture35",
          "wb-Mixture36",
          "wb-Mixture37",
          "wb-Mixture38",
          "wb-Mixture39",
          "wb-Mixture40",
          "wb-Mixture41",
          "wb-Mixture42",
          "nwrb-Mixture01",
          "nwrb-Mixture02",
          "nwrb-Mixture03",
          "nwrb-Mixture04",
          "nwrb-Mixture05",
          "nwrb-Mixture06",
          "nwrb-Mixture07",
          "nwrb-Mixture08",
          "nwrb-Mixture09",
          "nwrb-Mixture10",
          "nwrb-Mixture11",
          "nwrb-Mixture12",
          "nwrb-Mixture13",
          "nwrb-Mixture14",
          "nwrb-Mixture15",
          "nwrb-Mixture16",
          "nwrb-Mixture17",
          "nwrb-Mixture18",
          "nwrb-Mixture19",
          "nwrb-Mixture20",
          "nwrb-Mixture21",
          "nwrb-Mixture22",
          "nwrb-Mixture23",
          "nwrb-Mixture24",
          "nwrb-Mixture25",
          "nwrb-Mixture26",
          "nwrb-Mixture27",
          "nwrb-Mixture28",
          "nwrb-Mixture29",
          "nwrb-Mixture30",
          "nwrb-Mixture31",
          "nwrb-Mixture32",
          "nwrb-Mixture33",
          "nwrb-Mixture34",
          "nwrb-Mixture35",
          "nwrb-Mixture36",
          "nwrb-Mixture37",
          "nwrb-Mixture38",
          "nwrb-Mixture39",
          "nwrb-Mixture40",
          "nwrb-Mixture41",
          "nwrb-Mixture42",
          "pwrb-Mixture01",
          "pwrb-Mixture02",
          "pwrb-Mixture03",
          "pwrb-Mixture04",
          "pwrb-Mixture05",
          "pwrb-Mixture06",
          "pwrb-Mixture07",
          "pwrb-Mixture08",
          "pwrb-Mixture09",
          "pwrb-Mixture10",
          "pwrb-Mixture11",
          "pwrb-Mixture12",
          "pwrb-Mixture13",
          "pwrb-Mixture14",
          "pwrb-Mixture15",
          "pwrb-Mixture16",
          "pwrb-Mixture17",
          "pwrb-Mixture18",
          "pwrb-Mixture19",
          "pwrb-Mixture20",
          "pwrb-Mixture21",
          "pwrb-Mixture22",
          "pwrb-Mixture23",
          "pwrb-Mixture24",
          "pwrb-Mixture25",
          "pwrb-Mixture26",
          "pwrb-Mixture27",
          "pwrb-Mixture28",
          "pwrb-Mixture29",
          "pwrb-Mixture30",
          "pwrb-Mixture31",
          "pwrb-Mixture32",
          "pwrb-Mixture33",
          "pwrb-Mixture34",
          "pwrb-Mixture35",
          "pwrb-Mixture36",
          "pwrb-Mixture37",
          "pwrb-Mixture38",
          "pwrb-Mixture39",
          "pwrb-Mixture40",
          "pwrb-Mixture41",
          "pwrb-Mixture42"
         ],
         "xaxis": "x",
         "y": [
          423031,
          2477301,
          625803,
          334617,
          876549,
          2487946,
          1677177,
          1495138,
          1094141,
          1390062,
          957343,
          1887639,
          337907,
          1731524,
          1024425,
          533099,
          885833,
          314852,
          92425,
          1025218,
          20079,
          1663894,
          3355,
          557059,
          263949,
          1771652,
          1289166,
          1156201,
          3237693,
          846885,
          560556,
          1804423,
          172081,
          891784,
          1112313,
          516407,
          1439354,
          822918,
          587227,
          1505186,
          1829478,
          680768,
          189378,
          273745,
          251928,
          317693,
          235449,
          399339,
          569558,
          371335,
          343392,
          236628,
          249530,
          406869,
          278317,
          390942,
          379737,
          386767,
          253970,
          201219,
          231428,
          297264,
          145865,
          369846,
          205927,
          359406,
          216885,
          366523,
          260463,
          309136,
          464941,
          358878,
          326837,
          578642,
          254945,
          220983,
          328988,
          195695,
          294577,
          301437,
          327138,
          261420,
          200971,
          196004,
          301706,
          457693,
          588211,
          678560,
          343097,
          567604,
          716564,
          512320,
          166419,
          437200,
          335194,
          411150,
          423443,
          389492,
          333950,
          450586,
          362423,
          377909,
          329896,
          398597,
          291210,
          285823,
          246962,
          259464,
          422545,
          233949,
          249546,
          346769,
          448382,
          466393,
          435852,
          329469,
          297617,
          405364,
          268313,
          364669,
          283888,
          296174,
          469195,
          411710,
          543058,
          405030
         ],
         "yaxis": "y"
        },
        {
         "alignmentgroup": "True",
         "hovertemplate": "aligner=minimap2<br>sample_name=%{x}<br>values=%{y}<extra></extra>",
         "legendgroup": "minimap2",
         "marker": {
          "color": "#EF553B",
          "pattern": {
           "shape": ""
          }
         },
         "name": "minimap2",
         "offsetgroup": "minimap2",
         "orientation": "v",
         "showlegend": true,
         "textposition": "auto",
         "type": "bar",
         "x": [
          "wb-Mixture01",
          "wb-Mixture02",
          "wb-Mixture03",
          "wb-Mixture04",
          "wb-Mixture05",
          "wb-Mixture06",
          "wb-Mixture07",
          "wb-Mixture08",
          "wb-Mixture09",
          "wb-Mixture10",
          "wb-Mixture11",
          "wb-Mixture12",
          "wb-Mixture13",
          "wb-Mixture14",
          "wb-Mixture15",
          "wb-Mixture16",
          "wb-Mixture17",
          "wb-Mixture18",
          "wb-Mixture19",
          "wb-Mixture20",
          "wb-Mixture21",
          "wb-Mixture22",
          "wb-Mixture23",
          "wb-Mixture24",
          "wb-Mixture25",
          "wb-Mixture26",
          "wb-Mixture27",
          "wb-Mixture28",
          "wb-Mixture29",
          "wb-Mixture30",
          "wb-Mixture31",
          "wb-Mixture32",
          "wb-Mixture33",
          "wb-Mixture34",
          "wb-Mixture35",
          "wb-Mixture36",
          "wb-Mixture37",
          "wb-Mixture38",
          "wb-Mixture39",
          "wb-Mixture40",
          "wb-Mixture41",
          "wb-Mixture42",
          "nwrb-Mixture01",
          "nwrb-Mixture02",
          "nwrb-Mixture03",
          "nwrb-Mixture04",
          "nwrb-Mixture05",
          "nwrb-Mixture06",
          "nwrb-Mixture07",
          "nwrb-Mixture08",
          "nwrb-Mixture09",
          "nwrb-Mixture10",
          "nwrb-Mixture11",
          "nwrb-Mixture12",
          "nwrb-Mixture13",
          "nwrb-Mixture14",
          "nwrb-Mixture15",
          "nwrb-Mixture16",
          "nwrb-Mixture17",
          "nwrb-Mixture18",
          "nwrb-Mixture19",
          "nwrb-Mixture20",
          "nwrb-Mixture21",
          "nwrb-Mixture22",
          "nwrb-Mixture23",
          "nwrb-Mixture24",
          "nwrb-Mixture25",
          "nwrb-Mixture26",
          "nwrb-Mixture27",
          "nwrb-Mixture28",
          "nwrb-Mixture29",
          "nwrb-Mixture30",
          "nwrb-Mixture31",
          "nwrb-Mixture32",
          "nwrb-Mixture33",
          "nwrb-Mixture34",
          "nwrb-Mixture35",
          "nwrb-Mixture36",
          "nwrb-Mixture37",
          "nwrb-Mixture38",
          "nwrb-Mixture39",
          "nwrb-Mixture40",
          "nwrb-Mixture41",
          "nwrb-Mixture42",
          "pwrb-Mixture01",
          "pwrb-Mixture02",
          "pwrb-Mixture03",
          "pwrb-Mixture04",
          "pwrb-Mixture05",
          "pwrb-Mixture06",
          "pwrb-Mixture07",
          "pwrb-Mixture08",
          "pwrb-Mixture09",
          "pwrb-Mixture10",
          "pwrb-Mixture11",
          "pwrb-Mixture12",
          "pwrb-Mixture13",
          "pwrb-Mixture14",
          "pwrb-Mixture15",
          "pwrb-Mixture16",
          "pwrb-Mixture17",
          "pwrb-Mixture18",
          "pwrb-Mixture19",
          "pwrb-Mixture20",
          "pwrb-Mixture21",
          "pwrb-Mixture22",
          "pwrb-Mixture23",
          "pwrb-Mixture24",
          "pwrb-Mixture25",
          "pwrb-Mixture26",
          "pwrb-Mixture27",
          "pwrb-Mixture28",
          "pwrb-Mixture29",
          "pwrb-Mixture30",
          "pwrb-Mixture31",
          "pwrb-Mixture32",
          "pwrb-Mixture33",
          "pwrb-Mixture34",
          "pwrb-Mixture35",
          "pwrb-Mixture36",
          "pwrb-Mixture37",
          "pwrb-Mixture38",
          "pwrb-Mixture39",
          "pwrb-Mixture40",
          "pwrb-Mixture41",
          "pwrb-Mixture42"
         ],
         "xaxis": "x",
         "y": [
          -422837,
          -2476625,
          -625041,
          -333359,
          -873065,
          -2485955,
          -1676851,
          -1494357,
          -1094032,
          -1388785,
          -953321,
          -1880625,
          -336685,
          -1731368,
          -1024235,
          -532855,
          -885721,
          -314185,
          -80879,
          -1019945,
          -19739,
          -1662688,
          -3118,
          -556877,
          -261966,
          -1771058,
          -1285951,
          -1154804,
          -3235091,
          -846537,
          -558751,
          -1803658,
          -172048,
          -890139,
          -1096884,
          -516280,
          -1439145,
          -822749,
          -587014,
          -1504332,
          -1825908,
          -678837,
          -189295,
          -273706,
          -251793,
          -317516,
          -235386,
          -399118,
          -569414,
          -371132,
          -343361,
          -236446,
          -249357,
          -406774,
          -278236,
          -390904,
          -379686,
          -386707,
          -253943,
          -201191,
          -231334,
          -296418,
          -145849,
          -369529,
          -205308,
          -359287,
          -216854,
          -366478,
          -260420,
          -308924,
          -464737,
          -358724,
          -326780,
          -578364,
          -254315,
          -220958,
          -328947,
          -195662,
          -294405,
          -301407,
          -326886,
          -261261,
          -200939,
          -195958,
          -300692,
          -457560,
          -587735,
          -677879,
          -342839,
          -567074,
          -716409,
          -509609,
          -166399,
          -436700,
          -334833,
          -410948,
          -421593,
          -389430,
          -333870,
          -450489,
          -362378,
          -377875,
          -329668,
          -398237,
          -291181,
          -285576,
          -246810,
          -259333,
          -422430,
          -233896,
          -249493,
          -346453,
          -448010,
          -466055,
          -435629,
          -329280,
          -297581,
          -405326,
          -268280,
          -363631,
          -283857,
          -295957,
          -468959,
          -411376,
          -542897,
          -403829
         ],
         "yaxis": "y"
        }
       ],
       "layout": {
        "barmode": "relative",
        "legend": {
         "title": {
          "text": "aligner"
         },
         "tracegroupgap": 0
        },
        "template": {
         "data": {
          "bar": [
           {
            "error_x": {
             "color": "#2a3f5f"
            },
            "error_y": {
             "color": "#2a3f5f"
            },
            "marker": {
             "line": {
              "color": "#E5ECF6",
              "width": 0.5
             },
             "pattern": {
              "fillmode": "overlay",
              "size": 10,
              "solidity": 0.2
             }
            },
            "type": "bar"
           }
          ],
          "barpolar": [
           {
            "marker": {
             "line": {
              "color": "#E5ECF6",
              "width": 0.5
             },
             "pattern": {
              "fillmode": "overlay",
              "size": 10,
              "solidity": 0.2
             }
            },
            "type": "barpolar"
           }
          ],
          "carpet": [
           {
            "aaxis": {
             "endlinecolor": "#2a3f5f",
             "gridcolor": "white",
             "linecolor": "white",
             "minorgridcolor": "white",
             "startlinecolor": "#2a3f5f"
            },
            "baxis": {
             "endlinecolor": "#2a3f5f",
             "gridcolor": "white",
             "linecolor": "white",
             "minorgridcolor": "white",
             "startlinecolor": "#2a3f5f"
            },
            "type": "carpet"
           }
          ],
          "choropleth": [
           {
            "colorbar": {
             "outlinewidth": 0,
             "ticks": ""
            },
            "type": "choropleth"
           }
          ],
          "contour": [
           {
            "colorbar": {
             "outlinewidth": 0,
             "ticks": ""
            },
            "colorscale": [
             [
              0,
              "#0d0887"
             ],
             [
              0.1111111111111111,
              "#46039f"
             ],
             [
              0.2222222222222222,
              "#7201a8"
             ],
             [
              0.3333333333333333,
              "#9c179e"
             ],
             [
              0.4444444444444444,
              "#bd3786"
             ],
             [
              0.5555555555555556,
              "#d8576b"
             ],
             [
              0.6666666666666666,
              "#ed7953"
             ],
             [
              0.7777777777777778,
              "#fb9f3a"
             ],
             [
              0.8888888888888888,
              "#fdca26"
             ],
             [
              1,
              "#f0f921"
             ]
            ],
            "type": "contour"
           }
          ],
          "contourcarpet": [
           {
            "colorbar": {
             "outlinewidth": 0,
             "ticks": ""
            },
            "type": "contourcarpet"
           }
          ],
          "heatmap": [
           {
            "colorbar": {
             "outlinewidth": 0,
             "ticks": ""
            },
            "colorscale": [
             [
              0,
              "#0d0887"
             ],
             [
              0.1111111111111111,
              "#46039f"
             ],
             [
              0.2222222222222222,
              "#7201a8"
             ],
             [
              0.3333333333333333,
              "#9c179e"
             ],
             [
              0.4444444444444444,
              "#bd3786"
             ],
             [
              0.5555555555555556,
              "#d8576b"
             ],
             [
              0.6666666666666666,
              "#ed7953"
             ],
             [
              0.7777777777777778,
              "#fb9f3a"
             ],
             [
              0.8888888888888888,
              "#fdca26"
             ],
             [
              1,
              "#f0f921"
             ]
            ],
            "type": "heatmap"
           }
          ],
          "heatmapgl": [
           {
            "colorbar": {
             "outlinewidth": 0,
             "ticks": ""
            },
            "colorscale": [
             [
              0,
              "#0d0887"
             ],
             [
              0.1111111111111111,
              "#46039f"
             ],
             [
              0.2222222222222222,
              "#7201a8"
             ],
             [
              0.3333333333333333,
              "#9c179e"
             ],
             [
              0.4444444444444444,
              "#bd3786"
             ],
             [
              0.5555555555555556,
              "#d8576b"
             ],
             [
              0.6666666666666666,
              "#ed7953"
             ],
             [
              0.7777777777777778,
              "#fb9f3a"
             ],
             [
              0.8888888888888888,
              "#fdca26"
             ],
             [
              1,
              "#f0f921"
             ]
            ],
            "type": "heatmapgl"
           }
          ],
          "histogram": [
           {
            "marker": {
             "pattern": {
              "fillmode": "overlay",
              "size": 10,
              "solidity": 0.2
             }
            },
            "type": "histogram"
           }
          ],
          "histogram2d": [
           {
            "colorbar": {
             "outlinewidth": 0,
             "ticks": ""
            },
            "colorscale": [
             [
              0,
              "#0d0887"
             ],
             [
              0.1111111111111111,
              "#46039f"
             ],
             [
              0.2222222222222222,
              "#7201a8"
             ],
             [
              0.3333333333333333,
              "#9c179e"
             ],
             [
              0.4444444444444444,
              "#bd3786"
             ],
             [
              0.5555555555555556,
              "#d8576b"
             ],
             [
              0.6666666666666666,
              "#ed7953"
             ],
             [
              0.7777777777777778,
              "#fb9f3a"
             ],
             [
              0.8888888888888888,
              "#fdca26"
             ],
             [
              1,
              "#f0f921"
             ]
            ],
            "type": "histogram2d"
           }
          ],
          "histogram2dcontour": [
           {
            "colorbar": {
             "outlinewidth": 0,
             "ticks": ""
            },
            "colorscale": [
             [
              0,
              "#0d0887"
             ],
             [
              0.1111111111111111,
              "#46039f"
             ],
             [
              0.2222222222222222,
              "#7201a8"
             ],
             [
              0.3333333333333333,
              "#9c179e"
             ],
             [
              0.4444444444444444,
              "#bd3786"
             ],
             [
              0.5555555555555556,
              "#d8576b"
             ],
             [
              0.6666666666666666,
              "#ed7953"
             ],
             [
              0.7777777777777778,
              "#fb9f3a"
             ],
             [
              0.8888888888888888,
              "#fdca26"
             ],
             [
              1,
              "#f0f921"
             ]
            ],
            "type": "histogram2dcontour"
           }
          ],
          "mesh3d": [
           {
            "colorbar": {
             "outlinewidth": 0,
             "ticks": ""
            },
            "type": "mesh3d"
           }
          ],
          "parcoords": [
           {
            "line": {
             "colorbar": {
              "outlinewidth": 0,
              "ticks": ""
             }
            },
            "type": "parcoords"
           }
          ],
          "pie": [
           {
            "automargin": true,
            "type": "pie"
           }
          ],
          "scatter": [
           {
            "fillpattern": {
             "fillmode": "overlay",
             "size": 10,
             "solidity": 0.2
            },
            "type": "scatter"
           }
          ],
          "scatter3d": [
           {
            "line": {
             "colorbar": {
              "outlinewidth": 0,
              "ticks": ""
             }
            },
            "marker": {
             "colorbar": {
              "outlinewidth": 0,
              "ticks": ""
             }
            },
            "type": "scatter3d"
           }
          ],
          "scattercarpet": [
           {
            "marker": {
             "colorbar": {
              "outlinewidth": 0,
              "ticks": ""
             }
            },
            "type": "scattercarpet"
           }
          ],
          "scattergeo": [
           {
            "marker": {
             "colorbar": {
              "outlinewidth": 0,
              "ticks": ""
             }
            },
            "type": "scattergeo"
           }
          ],
          "scattergl": [
           {
            "marker": {
             "colorbar": {
              "outlinewidth": 0,
              "ticks": ""
             }
            },
            "type": "scattergl"
           }
          ],
          "scattermapbox": [
           {
            "marker": {
             "colorbar": {
              "outlinewidth": 0,
              "ticks": ""
             }
            },
            "type": "scattermapbox"
           }
          ],
          "scatterpolar": [
           {
            "marker": {
             "colorbar": {
              "outlinewidth": 0,
              "ticks": ""
             }
            },
            "type": "scatterpolar"
           }
          ],
          "scatterpolargl": [
           {
            "marker": {
             "colorbar": {
              "outlinewidth": 0,
              "ticks": ""
             }
            },
            "type": "scatterpolargl"
           }
          ],
          "scatterternary": [
           {
            "marker": {
             "colorbar": {
              "outlinewidth": 0,
              "ticks": ""
             }
            },
            "type": "scatterternary"
           }
          ],
          "surface": [
           {
            "colorbar": {
             "outlinewidth": 0,
             "ticks": ""
            },
            "colorscale": [
             [
              0,
              "#0d0887"
             ],
             [
              0.1111111111111111,
              "#46039f"
             ],
             [
              0.2222222222222222,
              "#7201a8"
             ],
             [
              0.3333333333333333,
              "#9c179e"
             ],
             [
              0.4444444444444444,
              "#bd3786"
             ],
             [
              0.5555555555555556,
              "#d8576b"
             ],
             [
              0.6666666666666666,
              "#ed7953"
             ],
             [
              0.7777777777777778,
              "#fb9f3a"
             ],
             [
              0.8888888888888888,
              "#fdca26"
             ],
             [
              1,
              "#f0f921"
             ]
            ],
            "type": "surface"
           }
          ],
          "table": [
           {
            "cells": {
             "fill": {
              "color": "#EBF0F8"
             },
             "line": {
              "color": "white"
             }
            },
            "header": {
             "fill": {
              "color": "#C8D4E3"
             },
             "line": {
              "color": "white"
             }
            },
            "type": "table"
           }
          ]
         },
         "layout": {
          "annotationdefaults": {
           "arrowcolor": "#2a3f5f",
           "arrowhead": 0,
           "arrowwidth": 1
          },
          "autotypenumbers": "strict",
          "coloraxis": {
           "colorbar": {
            "outlinewidth": 0,
            "ticks": ""
           }
          },
          "colorscale": {
           "diverging": [
            [
             0,
             "#8e0152"
            ],
            [
             0.1,
             "#c51b7d"
            ],
            [
             0.2,
             "#de77ae"
            ],
            [
             0.3,
             "#f1b6da"
            ],
            [
             0.4,
             "#fde0ef"
            ],
            [
             0.5,
             "#f7f7f7"
            ],
            [
             0.6,
             "#e6f5d0"
            ],
            [
             0.7,
             "#b8e186"
            ],
            [
             0.8,
             "#7fbc41"
            ],
            [
             0.9,
             "#4d9221"
            ],
            [
             1,
             "#276419"
            ]
           ],
           "sequential": [
            [
             0,
             "#0d0887"
            ],
            [
             0.1111111111111111,
             "#46039f"
            ],
            [
             0.2222222222222222,
             "#7201a8"
            ],
            [
             0.3333333333333333,
             "#9c179e"
            ],
            [
             0.4444444444444444,
             "#bd3786"
            ],
            [
             0.5555555555555556,
             "#d8576b"
            ],
            [
             0.6666666666666666,
             "#ed7953"
            ],
            [
             0.7777777777777778,
             "#fb9f3a"
            ],
            [
             0.8888888888888888,
             "#fdca26"
            ],
            [
             1,
             "#f0f921"
            ]
           ],
           "sequentialminus": [
            [
             0,
             "#0d0887"
            ],
            [
             0.1111111111111111,
             "#46039f"
            ],
            [
             0.2222222222222222,
             "#7201a8"
            ],
            [
             0.3333333333333333,
             "#9c179e"
            ],
            [
             0.4444444444444444,
             "#bd3786"
            ],
            [
             0.5555555555555556,
             "#d8576b"
            ],
            [
             0.6666666666666666,
             "#ed7953"
            ],
            [
             0.7777777777777778,
             "#fb9f3a"
            ],
            [
             0.8888888888888888,
             "#fdca26"
            ],
            [
             1,
             "#f0f921"
            ]
           ]
          },
          "colorway": [
           "#636efa",
           "#EF553B",
           "#00cc96",
           "#ab63fa",
           "#FFA15A",
           "#19d3f3",
           "#FF6692",
           "#B6E880",
           "#FF97FF",
           "#FECB52"
          ],
          "font": {
           "color": "#2a3f5f"
          },
          "geo": {
           "bgcolor": "white",
           "lakecolor": "white",
           "landcolor": "#E5ECF6",
           "showlakes": true,
           "showland": true,
           "subunitcolor": "white"
          },
          "hoverlabel": {
           "align": "left"
          },
          "hovermode": "closest",
          "mapbox": {
           "style": "light"
          },
          "paper_bgcolor": "white",
          "plot_bgcolor": "#E5ECF6",
          "polar": {
           "angularaxis": {
            "gridcolor": "white",
            "linecolor": "white",
            "ticks": ""
           },
           "bgcolor": "#E5ECF6",
           "radialaxis": {
            "gridcolor": "white",
            "linecolor": "white",
            "ticks": ""
           }
          },
          "scene": {
           "xaxis": {
            "backgroundcolor": "#E5ECF6",
            "gridcolor": "white",
            "gridwidth": 2,
            "linecolor": "white",
            "showbackground": true,
            "ticks": "",
            "zerolinecolor": "white"
           },
           "yaxis": {
            "backgroundcolor": "#E5ECF6",
            "gridcolor": "white",
            "gridwidth": 2,
            "linecolor": "white",
            "showbackground": true,
            "ticks": "",
            "zerolinecolor": "white"
           },
           "zaxis": {
            "backgroundcolor": "#E5ECF6",
            "gridcolor": "white",
            "gridwidth": 2,
            "linecolor": "white",
            "showbackground": true,
            "ticks": "",
            "zerolinecolor": "white"
           }
          },
          "shapedefaults": {
           "line": {
            "color": "#2a3f5f"
           }
          },
          "ternary": {
           "aaxis": {
            "gridcolor": "white",
            "linecolor": "white",
            "ticks": ""
           },
           "baxis": {
            "gridcolor": "white",
            "linecolor": "white",
            "ticks": ""
           },
           "bgcolor": "#E5ECF6",
           "caxis": {
            "gridcolor": "white",
            "linecolor": "white",
            "ticks": ""
           }
          },
          "title": {
           "x": 0.05
          },
          "xaxis": {
           "automargin": true,
           "gridcolor": "white",
           "linecolor": "white",
           "ticks": "",
           "title": {
            "standoff": 15
           },
           "zerolinecolor": "white",
           "zerolinewidth": 2
          },
          "yaxis": {
           "automargin": true,
           "gridcolor": "white",
           "linecolor": "white",
           "ticks": "",
           "title": {
            "standoff": 15
           },
           "zerolinecolor": "white",
           "zerolinewidth": 2
          }
         }
        },
        "title": {
         "text": "Bam read counts for each sample"
        },
        "xaxis": {
         "anchor": "y",
         "domain": [
          0,
          1
         ],
         "title": {
          "text": "sample_name"
         }
        },
        "yaxis": {
         "anchor": "x",
         "domain": [
          0,
          1
         ],
         "title": {
          "text": "values"
         }
        }
       }
      },
      "text/html": [
       "<div>                            <div id=\"9c90e2a7-55d2-405b-a854-b21ee5c53a5b\" class=\"plotly-graph-div\" style=\"height:525px; width:100%;\"></div>            <script type=\"text/javascript\">                require([\"plotly\"], function(Plotly) {                    window.PLOTLYENV=window.PLOTLYENV || {};                                    if (document.getElementById(\"9c90e2a7-55d2-405b-a854-b21ee5c53a5b\")) {                    Plotly.newPlot(                        \"9c90e2a7-55d2-405b-a854-b21ee5c53a5b\",                        [{\"alignmentgroup\":\"True\",\"hovertemplate\":\"aligner=bwa<br>sample_name=%{x}<br>values=%{y}<extra></extra>\",\"legendgroup\":\"bwa\",\"marker\":{\"color\":\"#636efa\",\"pattern\":{\"shape\":\"\"}},\"name\":\"bwa\",\"offsetgroup\":\"bwa\",\"orientation\":\"v\",\"showlegend\":true,\"textposition\":\"auto\",\"x\":[\"wb-Mixture01\",\"wb-Mixture02\",\"wb-Mixture03\",\"wb-Mixture04\",\"wb-Mixture05\",\"wb-Mixture06\",\"wb-Mixture07\",\"wb-Mixture08\",\"wb-Mixture09\",\"wb-Mixture10\",\"wb-Mixture11\",\"wb-Mixture12\",\"wb-Mixture13\",\"wb-Mixture14\",\"wb-Mixture15\",\"wb-Mixture16\",\"wb-Mixture17\",\"wb-Mixture18\",\"wb-Mixture19\",\"wb-Mixture20\",\"wb-Mixture21\",\"wb-Mixture22\",\"wb-Mixture23\",\"wb-Mixture24\",\"wb-Mixture25\",\"wb-Mixture26\",\"wb-Mixture27\",\"wb-Mixture28\",\"wb-Mixture29\",\"wb-Mixture30\",\"wb-Mixture31\",\"wb-Mixture32\",\"wb-Mixture33\",\"wb-Mixture34\",\"wb-Mixture35\",\"wb-Mixture36\",\"wb-Mixture37\",\"wb-Mixture38\",\"wb-Mixture39\",\"wb-Mixture40\",\"wb-Mixture41\",\"wb-Mixture42\",\"nwrb-Mixture01\",\"nwrb-Mixture02\",\"nwrb-Mixture03\",\"nwrb-Mixture04\",\"nwrb-Mixture05\",\"nwrb-Mixture06\",\"nwrb-Mixture07\",\"nwrb-Mixture08\",\"nwrb-Mixture09\",\"nwrb-Mixture10\",\"nwrb-Mixture11\",\"nwrb-Mixture12\",\"nwrb-Mixture13\",\"nwrb-Mixture14\",\"nwrb-Mixture15\",\"nwrb-Mixture16\",\"nwrb-Mixture17\",\"nwrb-Mixture18\",\"nwrb-Mixture19\",\"nwrb-Mixture20\",\"nwrb-Mixture21\",\"nwrb-Mixture22\",\"nwrb-Mixture23\",\"nwrb-Mixture24\",\"nwrb-Mixture25\",\"nwrb-Mixture26\",\"nwrb-Mixture27\",\"nwrb-Mixture28\",\"nwrb-Mixture29\",\"nwrb-Mixture30\",\"nwrb-Mixture31\",\"nwrb-Mixture32\",\"nwrb-Mixture33\",\"nwrb-Mixture34\",\"nwrb-Mixture35\",\"nwrb-Mixture36\",\"nwrb-Mixture37\",\"nwrb-Mixture38\",\"nwrb-Mixture39\",\"nwrb-Mixture40\",\"nwrb-Mixture41\",\"nwrb-Mixture42\",\"pwrb-Mixture01\",\"pwrb-Mixture02\",\"pwrb-Mixture03\",\"pwrb-Mixture04\",\"pwrb-Mixture05\",\"pwrb-Mixture06\",\"pwrb-Mixture07\",\"pwrb-Mixture08\",\"pwrb-Mixture09\",\"pwrb-Mixture10\",\"pwrb-Mixture11\",\"pwrb-Mixture12\",\"pwrb-Mixture13\",\"pwrb-Mixture14\",\"pwrb-Mixture15\",\"pwrb-Mixture16\",\"pwrb-Mixture17\",\"pwrb-Mixture18\",\"pwrb-Mixture19\",\"pwrb-Mixture20\",\"pwrb-Mixture21\",\"pwrb-Mixture22\",\"pwrb-Mixture23\",\"pwrb-Mixture24\",\"pwrb-Mixture25\",\"pwrb-Mixture26\",\"pwrb-Mixture27\",\"pwrb-Mixture28\",\"pwrb-Mixture29\",\"pwrb-Mixture30\",\"pwrb-Mixture31\",\"pwrb-Mixture32\",\"pwrb-Mixture33\",\"pwrb-Mixture34\",\"pwrb-Mixture35\",\"pwrb-Mixture36\",\"pwrb-Mixture37\",\"pwrb-Mixture38\",\"pwrb-Mixture39\",\"pwrb-Mixture40\",\"pwrb-Mixture41\",\"pwrb-Mixture42\"],\"xaxis\":\"x\",\"y\":[423031,2477301,625803,334617,876549,2487946,1677177,1495138,1094141,1390062,957343,1887639,337907,1731524,1024425,533099,885833,314852,92425,1025218,20079,1663894,3355,557059,263949,1771652,1289166,1156201,3237693,846885,560556,1804423,172081,891784,1112313,516407,1439354,822918,587227,1505186,1829478,680768,189378,273745,251928,317693,235449,399339,569558,371335,343392,236628,249530,406869,278317,390942,379737,386767,253970,201219,231428,297264,145865,369846,205927,359406,216885,366523,260463,309136,464941,358878,326837,578642,254945,220983,328988,195695,294577,301437,327138,261420,200971,196004,301706,457693,588211,678560,343097,567604,716564,512320,166419,437200,335194,411150,423443,389492,333950,450586,362423,377909,329896,398597,291210,285823,246962,259464,422545,233949,249546,346769,448382,466393,435852,329469,297617,405364,268313,364669,283888,296174,469195,411710,543058,405030],\"yaxis\":\"y\",\"type\":\"bar\"},{\"alignmentgroup\":\"True\",\"hovertemplate\":\"aligner=minimap2<br>sample_name=%{x}<br>values=%{y}<extra></extra>\",\"legendgroup\":\"minimap2\",\"marker\":{\"color\":\"#EF553B\",\"pattern\":{\"shape\":\"\"}},\"name\":\"minimap2\",\"offsetgroup\":\"minimap2\",\"orientation\":\"v\",\"showlegend\":true,\"textposition\":\"auto\",\"x\":[\"wb-Mixture01\",\"wb-Mixture02\",\"wb-Mixture03\",\"wb-Mixture04\",\"wb-Mixture05\",\"wb-Mixture06\",\"wb-Mixture07\",\"wb-Mixture08\",\"wb-Mixture09\",\"wb-Mixture10\",\"wb-Mixture11\",\"wb-Mixture12\",\"wb-Mixture13\",\"wb-Mixture14\",\"wb-Mixture15\",\"wb-Mixture16\",\"wb-Mixture17\",\"wb-Mixture18\",\"wb-Mixture19\",\"wb-Mixture20\",\"wb-Mixture21\",\"wb-Mixture22\",\"wb-Mixture23\",\"wb-Mixture24\",\"wb-Mixture25\",\"wb-Mixture26\",\"wb-Mixture27\",\"wb-Mixture28\",\"wb-Mixture29\",\"wb-Mixture30\",\"wb-Mixture31\",\"wb-Mixture32\",\"wb-Mixture33\",\"wb-Mixture34\",\"wb-Mixture35\",\"wb-Mixture36\",\"wb-Mixture37\",\"wb-Mixture38\",\"wb-Mixture39\",\"wb-Mixture40\",\"wb-Mixture41\",\"wb-Mixture42\",\"nwrb-Mixture01\",\"nwrb-Mixture02\",\"nwrb-Mixture03\",\"nwrb-Mixture04\",\"nwrb-Mixture05\",\"nwrb-Mixture06\",\"nwrb-Mixture07\",\"nwrb-Mixture08\",\"nwrb-Mixture09\",\"nwrb-Mixture10\",\"nwrb-Mixture11\",\"nwrb-Mixture12\",\"nwrb-Mixture13\",\"nwrb-Mixture14\",\"nwrb-Mixture15\",\"nwrb-Mixture16\",\"nwrb-Mixture17\",\"nwrb-Mixture18\",\"nwrb-Mixture19\",\"nwrb-Mixture20\",\"nwrb-Mixture21\",\"nwrb-Mixture22\",\"nwrb-Mixture23\",\"nwrb-Mixture24\",\"nwrb-Mixture25\",\"nwrb-Mixture26\",\"nwrb-Mixture27\",\"nwrb-Mixture28\",\"nwrb-Mixture29\",\"nwrb-Mixture30\",\"nwrb-Mixture31\",\"nwrb-Mixture32\",\"nwrb-Mixture33\",\"nwrb-Mixture34\",\"nwrb-Mixture35\",\"nwrb-Mixture36\",\"nwrb-Mixture37\",\"nwrb-Mixture38\",\"nwrb-Mixture39\",\"nwrb-Mixture40\",\"nwrb-Mixture41\",\"nwrb-Mixture42\",\"pwrb-Mixture01\",\"pwrb-Mixture02\",\"pwrb-Mixture03\",\"pwrb-Mixture04\",\"pwrb-Mixture05\",\"pwrb-Mixture06\",\"pwrb-Mixture07\",\"pwrb-Mixture08\",\"pwrb-Mixture09\",\"pwrb-Mixture10\",\"pwrb-Mixture11\",\"pwrb-Mixture12\",\"pwrb-Mixture13\",\"pwrb-Mixture14\",\"pwrb-Mixture15\",\"pwrb-Mixture16\",\"pwrb-Mixture17\",\"pwrb-Mixture18\",\"pwrb-Mixture19\",\"pwrb-Mixture20\",\"pwrb-Mixture21\",\"pwrb-Mixture22\",\"pwrb-Mixture23\",\"pwrb-Mixture24\",\"pwrb-Mixture25\",\"pwrb-Mixture26\",\"pwrb-Mixture27\",\"pwrb-Mixture28\",\"pwrb-Mixture29\",\"pwrb-Mixture30\",\"pwrb-Mixture31\",\"pwrb-Mixture32\",\"pwrb-Mixture33\",\"pwrb-Mixture34\",\"pwrb-Mixture35\",\"pwrb-Mixture36\",\"pwrb-Mixture37\",\"pwrb-Mixture38\",\"pwrb-Mixture39\",\"pwrb-Mixture40\",\"pwrb-Mixture41\",\"pwrb-Mixture42\"],\"xaxis\":\"x\",\"y\":[-422837,-2476625,-625041,-333359,-873065,-2485955,-1676851,-1494357,-1094032,-1388785,-953321,-1880625,-336685,-1731368,-1024235,-532855,-885721,-314185,-80879,-1019945,-19739,-1662688,-3118,-556877,-261966,-1771058,-1285951,-1154804,-3235091,-846537,-558751,-1803658,-172048,-890139,-1096884,-516280,-1439145,-822749,-587014,-1504332,-1825908,-678837,-189295,-273706,-251793,-317516,-235386,-399118,-569414,-371132,-343361,-236446,-249357,-406774,-278236,-390904,-379686,-386707,-253943,-201191,-231334,-296418,-145849,-369529,-205308,-359287,-216854,-366478,-260420,-308924,-464737,-358724,-326780,-578364,-254315,-220958,-328947,-195662,-294405,-301407,-326886,-261261,-200939,-195958,-300692,-457560,-587735,-677879,-342839,-567074,-716409,-509609,-166399,-436700,-334833,-410948,-421593,-389430,-333870,-450489,-362378,-377875,-329668,-398237,-291181,-285576,-246810,-259333,-422430,-233896,-249493,-346453,-448010,-466055,-435629,-329280,-297581,-405326,-268280,-363631,-283857,-295957,-468959,-411376,-542897,-403829],\"yaxis\":\"y\",\"type\":\"bar\"}],                        {\"template\":{\"data\":{\"histogram2dcontour\":[{\"type\":\"histogram2dcontour\",\"colorbar\":{\"outlinewidth\":0,\"ticks\":\"\"},\"colorscale\":[[0.0,\"#0d0887\"],[0.1111111111111111,\"#46039f\"],[0.2222222222222222,\"#7201a8\"],[0.3333333333333333,\"#9c179e\"],[0.4444444444444444,\"#bd3786\"],[0.5555555555555556,\"#d8576b\"],[0.6666666666666666,\"#ed7953\"],[0.7777777777777778,\"#fb9f3a\"],[0.8888888888888888,\"#fdca26\"],[1.0,\"#f0f921\"]]}],\"choropleth\":[{\"type\":\"choropleth\",\"colorbar\":{\"outlinewidth\":0,\"ticks\":\"\"}}],\"histogram2d\":[{\"type\":\"histogram2d\",\"colorbar\":{\"outlinewidth\":0,\"ticks\":\"\"},\"colorscale\":[[0.0,\"#0d0887\"],[0.1111111111111111,\"#46039f\"],[0.2222222222222222,\"#7201a8\"],[0.3333333333333333,\"#9c179e\"],[0.4444444444444444,\"#bd3786\"],[0.5555555555555556,\"#d8576b\"],[0.6666666666666666,\"#ed7953\"],[0.7777777777777778,\"#fb9f3a\"],[0.8888888888888888,\"#fdca26\"],[1.0,\"#f0f921\"]]}],\"heatmap\":[{\"type\":\"heatmap\",\"colorbar\":{\"outlinewidth\":0,\"ticks\":\"\"},\"colorscale\":[[0.0,\"#0d0887\"],[0.1111111111111111,\"#46039f\"],[0.2222222222222222,\"#7201a8\"],[0.3333333333333333,\"#9c179e\"],[0.4444444444444444,\"#bd3786\"],[0.5555555555555556,\"#d8576b\"],[0.6666666666666666,\"#ed7953\"],[0.7777777777777778,\"#fb9f3a\"],[0.8888888888888888,\"#fdca26\"],[1.0,\"#f0f921\"]]}],\"heatmapgl\":[{\"type\":\"heatmapgl\",\"colorbar\":{\"outlinewidth\":0,\"ticks\":\"\"},\"colorscale\":[[0.0,\"#0d0887\"],[0.1111111111111111,\"#46039f\"],[0.2222222222222222,\"#7201a8\"],[0.3333333333333333,\"#9c179e\"],[0.4444444444444444,\"#bd3786\"],[0.5555555555555556,\"#d8576b\"],[0.6666666666666666,\"#ed7953\"],[0.7777777777777778,\"#fb9f3a\"],[0.8888888888888888,\"#fdca26\"],[1.0,\"#f0f921\"]]}],\"contourcarpet\":[{\"type\":\"contourcarpet\",\"colorbar\":{\"outlinewidth\":0,\"ticks\":\"\"}}],\"contour\":[{\"type\":\"contour\",\"colorbar\":{\"outlinewidth\":0,\"ticks\":\"\"},\"colorscale\":[[0.0,\"#0d0887\"],[0.1111111111111111,\"#46039f\"],[0.2222222222222222,\"#7201a8\"],[0.3333333333333333,\"#9c179e\"],[0.4444444444444444,\"#bd3786\"],[0.5555555555555556,\"#d8576b\"],[0.6666666666666666,\"#ed7953\"],[0.7777777777777778,\"#fb9f3a\"],[0.8888888888888888,\"#fdca26\"],[1.0,\"#f0f921\"]]}],\"surface\":[{\"type\":\"surface\",\"colorbar\":{\"outlinewidth\":0,\"ticks\":\"\"},\"colorscale\":[[0.0,\"#0d0887\"],[0.1111111111111111,\"#46039f\"],[0.2222222222222222,\"#7201a8\"],[0.3333333333333333,\"#9c179e\"],[0.4444444444444444,\"#bd3786\"],[0.5555555555555556,\"#d8576b\"],[0.6666666666666666,\"#ed7953\"],[0.7777777777777778,\"#fb9f3a\"],[0.8888888888888888,\"#fdca26\"],[1.0,\"#f0f921\"]]}],\"mesh3d\":[{\"type\":\"mesh3d\",\"colorbar\":{\"outlinewidth\":0,\"ticks\":\"\"}}],\"scatter\":[{\"fillpattern\":{\"fillmode\":\"overlay\",\"size\":10,\"solidity\":0.2},\"type\":\"scatter\"}],\"parcoords\":[{\"type\":\"parcoords\",\"line\":{\"colorbar\":{\"outlinewidth\":0,\"ticks\":\"\"}}}],\"scatterpolargl\":[{\"type\":\"scatterpolargl\",\"marker\":{\"colorbar\":{\"outlinewidth\":0,\"ticks\":\"\"}}}],\"bar\":[{\"error_x\":{\"color\":\"#2a3f5f\"},\"error_y\":{\"color\":\"#2a3f5f\"},\"marker\":{\"line\":{\"color\":\"#E5ECF6\",\"width\":0.5},\"pattern\":{\"fillmode\":\"overlay\",\"size\":10,\"solidity\":0.2}},\"type\":\"bar\"}],\"scattergeo\":[{\"type\":\"scattergeo\",\"marker\":{\"colorbar\":{\"outlinewidth\":0,\"ticks\":\"\"}}}],\"scatterpolar\":[{\"type\":\"scatterpolar\",\"marker\":{\"colorbar\":{\"outlinewidth\":0,\"ticks\":\"\"}}}],\"histogram\":[{\"marker\":{\"pattern\":{\"fillmode\":\"overlay\",\"size\":10,\"solidity\":0.2}},\"type\":\"histogram\"}],\"scattergl\":[{\"type\":\"scattergl\",\"marker\":{\"colorbar\":{\"outlinewidth\":0,\"ticks\":\"\"}}}],\"scatter3d\":[{\"type\":\"scatter3d\",\"line\":{\"colorbar\":{\"outlinewidth\":0,\"ticks\":\"\"}},\"marker\":{\"colorbar\":{\"outlinewidth\":0,\"ticks\":\"\"}}}],\"scattermapbox\":[{\"type\":\"scattermapbox\",\"marker\":{\"colorbar\":{\"outlinewidth\":0,\"ticks\":\"\"}}}],\"scatterternary\":[{\"type\":\"scatterternary\",\"marker\":{\"colorbar\":{\"outlinewidth\":0,\"ticks\":\"\"}}}],\"scattercarpet\":[{\"type\":\"scattercarpet\",\"marker\":{\"colorbar\":{\"outlinewidth\":0,\"ticks\":\"\"}}}],\"carpet\":[{\"aaxis\":{\"endlinecolor\":\"#2a3f5f\",\"gridcolor\":\"white\",\"linecolor\":\"white\",\"minorgridcolor\":\"white\",\"startlinecolor\":\"#2a3f5f\"},\"baxis\":{\"endlinecolor\":\"#2a3f5f\",\"gridcolor\":\"white\",\"linecolor\":\"white\",\"minorgridcolor\":\"white\",\"startlinecolor\":\"#2a3f5f\"},\"type\":\"carpet\"}],\"table\":[{\"cells\":{\"fill\":{\"color\":\"#EBF0F8\"},\"line\":{\"color\":\"white\"}},\"header\":{\"fill\":{\"color\":\"#C8D4E3\"},\"line\":{\"color\":\"white\"}},\"type\":\"table\"}],\"barpolar\":[{\"marker\":{\"line\":{\"color\":\"#E5ECF6\",\"width\":0.5},\"pattern\":{\"fillmode\":\"overlay\",\"size\":10,\"solidity\":0.2}},\"type\":\"barpolar\"}],\"pie\":[{\"automargin\":true,\"type\":\"pie\"}]},\"layout\":{\"autotypenumbers\":\"strict\",\"colorway\":[\"#636efa\",\"#EF553B\",\"#00cc96\",\"#ab63fa\",\"#FFA15A\",\"#19d3f3\",\"#FF6692\",\"#B6E880\",\"#FF97FF\",\"#FECB52\"],\"font\":{\"color\":\"#2a3f5f\"},\"hovermode\":\"closest\",\"hoverlabel\":{\"align\":\"left\"},\"paper_bgcolor\":\"white\",\"plot_bgcolor\":\"#E5ECF6\",\"polar\":{\"bgcolor\":\"#E5ECF6\",\"angularaxis\":{\"gridcolor\":\"white\",\"linecolor\":\"white\",\"ticks\":\"\"},\"radialaxis\":{\"gridcolor\":\"white\",\"linecolor\":\"white\",\"ticks\":\"\"}},\"ternary\":{\"bgcolor\":\"#E5ECF6\",\"aaxis\":{\"gridcolor\":\"white\",\"linecolor\":\"white\",\"ticks\":\"\"},\"baxis\":{\"gridcolor\":\"white\",\"linecolor\":\"white\",\"ticks\":\"\"},\"caxis\":{\"gridcolor\":\"white\",\"linecolor\":\"white\",\"ticks\":\"\"}},\"coloraxis\":{\"colorbar\":{\"outlinewidth\":0,\"ticks\":\"\"}},\"colorscale\":{\"sequential\":[[0.0,\"#0d0887\"],[0.1111111111111111,\"#46039f\"],[0.2222222222222222,\"#7201a8\"],[0.3333333333333333,\"#9c179e\"],[0.4444444444444444,\"#bd3786\"],[0.5555555555555556,\"#d8576b\"],[0.6666666666666666,\"#ed7953\"],[0.7777777777777778,\"#fb9f3a\"],[0.8888888888888888,\"#fdca26\"],[1.0,\"#f0f921\"]],\"sequentialminus\":[[0.0,\"#0d0887\"],[0.1111111111111111,\"#46039f\"],[0.2222222222222222,\"#7201a8\"],[0.3333333333333333,\"#9c179e\"],[0.4444444444444444,\"#bd3786\"],[0.5555555555555556,\"#d8576b\"],[0.6666666666666666,\"#ed7953\"],[0.7777777777777778,\"#fb9f3a\"],[0.8888888888888888,\"#fdca26\"],[1.0,\"#f0f921\"]],\"diverging\":[[0,\"#8e0152\"],[0.1,\"#c51b7d\"],[0.2,\"#de77ae\"],[0.3,\"#f1b6da\"],[0.4,\"#fde0ef\"],[0.5,\"#f7f7f7\"],[0.6,\"#e6f5d0\"],[0.7,\"#b8e186\"],[0.8,\"#7fbc41\"],[0.9,\"#4d9221\"],[1,\"#276419\"]]},\"xaxis\":{\"gridcolor\":\"white\",\"linecolor\":\"white\",\"ticks\":\"\",\"title\":{\"standoff\":15},\"zerolinecolor\":\"white\",\"automargin\":true,\"zerolinewidth\":2},\"yaxis\":{\"gridcolor\":\"white\",\"linecolor\":\"white\",\"ticks\":\"\",\"title\":{\"standoff\":15},\"zerolinecolor\":\"white\",\"automargin\":true,\"zerolinewidth\":2},\"scene\":{\"xaxis\":{\"backgroundcolor\":\"#E5ECF6\",\"gridcolor\":\"white\",\"linecolor\":\"white\",\"showbackground\":true,\"ticks\":\"\",\"zerolinecolor\":\"white\",\"gridwidth\":2},\"yaxis\":{\"backgroundcolor\":\"#E5ECF6\",\"gridcolor\":\"white\",\"linecolor\":\"white\",\"showbackground\":true,\"ticks\":\"\",\"zerolinecolor\":\"white\",\"gridwidth\":2},\"zaxis\":{\"backgroundcolor\":\"#E5ECF6\",\"gridcolor\":\"white\",\"linecolor\":\"white\",\"showbackground\":true,\"ticks\":\"\",\"zerolinecolor\":\"white\",\"gridwidth\":2}},\"shapedefaults\":{\"line\":{\"color\":\"#2a3f5f\"}},\"annotationdefaults\":{\"arrowcolor\":\"#2a3f5f\",\"arrowhead\":0,\"arrowwidth\":1},\"geo\":{\"bgcolor\":\"white\",\"landcolor\":\"#E5ECF6\",\"subunitcolor\":\"white\",\"showland\":true,\"showlakes\":true,\"lakecolor\":\"white\"},\"title\":{\"x\":0.05},\"mapbox\":{\"style\":\"light\"}}},\"xaxis\":{\"anchor\":\"y\",\"domain\":[0.0,1.0],\"title\":{\"text\":\"sample_name\"}},\"yaxis\":{\"anchor\":\"x\",\"domain\":[0.0,1.0],\"title\":{\"text\":\"values\"}},\"legend\":{\"title\":{\"text\":\"aligner\"},\"tracegroupgap\":0},\"title\":{\"text\":\"Bam read counts for each sample\"},\"barmode\":\"relative\"},                        {\"responsive\": true}                    ).then(function(){\n",
       "                            \n",
       "var gd = document.getElementById('9c90e2a7-55d2-405b-a854-b21ee5c53a5b');\n",
       "var x = new MutationObserver(function (mutations, observer) {{\n",
       "        var display = window.getComputedStyle(gd).display;\n",
       "        if (!display || display === 'none') {{\n",
       "            console.log([gd, 'removed!']);\n",
       "            Plotly.purge(gd);\n",
       "            observer.disconnect();\n",
       "        }}\n",
       "}});\n",
       "\n",
       "// Listen for the removal of the full notebook cells\n",
       "var notebookContainer = gd.closest('#notebook-container');\n",
       "if (notebookContainer) {{\n",
       "    x.observe(notebookContainer, {childList: true});\n",
       "}}\n",
       "\n",
       "// Listen for the clearing of the current output cell\n",
       "var outputEl = gd.closest('.output');\n",
       "if (outputEl) {{\n",
       "    x.observe(outputEl, {childList: true});\n",
       "}}\n",
       "\n",
       "                        })                };                });            </script>        </div>"
      ]
     },
     "metadata": {},
     "output_type": "display_data"
    }
   ],
   "source": [
    "px.bar(bam_counts, x=\"sample_name\", y=\"values\", color=\"aligner\", title=\"Bam read counts for each sample\")"
   ]
  },
  {
   "cell_type": "code",
   "execution_count": 32,
   "metadata": {},
   "outputs": [
    {
     "data": {
      "application/vnd.plotly.v1+json": {
       "config": {
        "plotlyServerURL": "https://plot.ly"
       },
       "data": [
        {
         "alignmentgroup": "True",
         "hovertemplate": "aligner=%{x}<br>num_reads=%{y}<extra></extra>",
         "legendgroup": "",
         "marker": {
          "color": "#636efa"
         },
         "name": "",
         "notched": false,
         "offsetgroup": "",
         "orientation": "v",
         "showlegend": false,
         "type": "box",
         "x": [
          "bwa",
          "bwa",
          "bwa",
          "bwa",
          "bwa",
          "bwa",
          "bwa",
          "bwa",
          "bwa",
          "bwa",
          "bwa",
          "bwa",
          "bwa",
          "bwa",
          "bwa",
          "bwa",
          "bwa",
          "bwa",
          "bwa",
          "bwa",
          "bwa",
          "bwa",
          "bwa",
          "bwa",
          "bwa",
          "bwa",
          "bwa",
          "bwa",
          "bwa",
          "bwa",
          "bwa",
          "bwa",
          "bwa",
          "bwa",
          "bwa",
          "bwa",
          "bwa",
          "bwa",
          "bwa",
          "bwa",
          "bwa",
          "bwa",
          "bwa",
          "bwa",
          "bwa",
          "bwa",
          "bwa",
          "bwa",
          "bwa",
          "bwa",
          "bwa",
          "bwa",
          "bwa",
          "bwa",
          "bwa",
          "bwa",
          "bwa",
          "bwa",
          "bwa",
          "bwa",
          "bwa",
          "bwa",
          "bwa",
          "bwa",
          "bwa",
          "bwa",
          "bwa",
          "bwa",
          "bwa",
          "bwa",
          "bwa",
          "bwa",
          "bwa",
          "bwa",
          "bwa",
          "bwa",
          "bwa",
          "bwa",
          "bwa",
          "bwa",
          "bwa",
          "bwa",
          "bwa",
          "bwa",
          "bwa",
          "bwa",
          "bwa",
          "bwa",
          "bwa",
          "bwa",
          "bwa",
          "bwa",
          "bwa",
          "bwa",
          "bwa",
          "bwa",
          "bwa",
          "bwa",
          "bwa",
          "bwa",
          "bwa",
          "bwa",
          "bwa",
          "bwa",
          "bwa",
          "bwa",
          "bwa",
          "bwa",
          "bwa",
          "bwa",
          "bwa",
          "bwa",
          "bwa",
          "bwa",
          "bwa",
          "bwa",
          "bwa",
          "bwa",
          "bwa",
          "bwa",
          "bwa",
          "bwa",
          "bwa",
          "bwa",
          "bwa",
          "bwa",
          "minimap2",
          "minimap2",
          "minimap2",
          "minimap2",
          "minimap2",
          "minimap2",
          "minimap2",
          "minimap2",
          "minimap2",
          "minimap2",
          "minimap2",
          "minimap2",
          "minimap2",
          "minimap2",
          "minimap2",
          "minimap2",
          "minimap2",
          "minimap2",
          "minimap2",
          "minimap2",
          "minimap2",
          "minimap2",
          "minimap2",
          "minimap2",
          "minimap2",
          "minimap2",
          "minimap2",
          "minimap2",
          "minimap2",
          "minimap2",
          "minimap2",
          "minimap2",
          "minimap2",
          "minimap2",
          "minimap2",
          "minimap2",
          "minimap2",
          "minimap2",
          "minimap2",
          "minimap2",
          "minimap2",
          "minimap2",
          "minimap2",
          "minimap2",
          "minimap2",
          "minimap2",
          "minimap2",
          "minimap2",
          "minimap2",
          "minimap2",
          "minimap2",
          "minimap2",
          "minimap2",
          "minimap2",
          "minimap2",
          "minimap2",
          "minimap2",
          "minimap2",
          "minimap2",
          "minimap2",
          "minimap2",
          "minimap2",
          "minimap2",
          "minimap2",
          "minimap2",
          "minimap2",
          "minimap2",
          "minimap2",
          "minimap2",
          "minimap2",
          "minimap2",
          "minimap2",
          "minimap2",
          "minimap2",
          "minimap2",
          "minimap2",
          "minimap2",
          "minimap2",
          "minimap2",
          "minimap2",
          "minimap2",
          "minimap2",
          "minimap2",
          "minimap2",
          "minimap2",
          "minimap2",
          "minimap2",
          "minimap2",
          "minimap2",
          "minimap2",
          "minimap2",
          "minimap2",
          "minimap2",
          "minimap2",
          "minimap2",
          "minimap2",
          "minimap2",
          "minimap2",
          "minimap2",
          "minimap2",
          "minimap2",
          "minimap2",
          "minimap2",
          "minimap2",
          "minimap2",
          "minimap2",
          "minimap2",
          "minimap2",
          "minimap2",
          "minimap2",
          "minimap2",
          "minimap2",
          "minimap2",
          "minimap2",
          "minimap2",
          "minimap2",
          "minimap2",
          "minimap2",
          "minimap2",
          "minimap2",
          "minimap2",
          "minimap2",
          "minimap2",
          "minimap2",
          "minimap2",
          "minimap2"
         ],
         "x0": " ",
         "xaxis": "x",
         "y": [
          423031,
          2477301,
          625803,
          334617,
          876549,
          2487946,
          1677177,
          1495138,
          1094141,
          1390062,
          957343,
          1887639,
          337907,
          1731524,
          1024425,
          533099,
          885833,
          314852,
          92425,
          1025218,
          20079,
          1663894,
          3355,
          557059,
          263949,
          1771652,
          1289166,
          1156201,
          3237693,
          846885,
          560556,
          1804423,
          172081,
          891784,
          1112313,
          516407,
          1439354,
          822918,
          587227,
          1505186,
          1829478,
          680768,
          189378,
          273745,
          251928,
          317693,
          235449,
          399339,
          569558,
          371335,
          343392,
          236628,
          249530,
          406869,
          278317,
          390942,
          379737,
          386767,
          253970,
          201219,
          231428,
          297264,
          145865,
          369846,
          205927,
          359406,
          216885,
          366523,
          260463,
          309136,
          464941,
          358878,
          326837,
          578642,
          254945,
          220983,
          328988,
          195695,
          294577,
          301437,
          327138,
          261420,
          200971,
          196004,
          301706,
          457693,
          588211,
          678560,
          343097,
          567604,
          716564,
          512320,
          166419,
          437200,
          335194,
          411150,
          423443,
          389492,
          333950,
          450586,
          362423,
          377909,
          329896,
          398597,
          291210,
          285823,
          246962,
          259464,
          422545,
          233949,
          249546,
          346769,
          448382,
          466393,
          435852,
          329469,
          297617,
          405364,
          268313,
          364669,
          283888,
          296174,
          469195,
          411710,
          543058,
          405030,
          422837,
          2476625,
          625041,
          333359,
          873065,
          2485955,
          1676851,
          1494357,
          1094032,
          1388785,
          953321,
          1880625,
          336685,
          1731368,
          1024235,
          532855,
          885721,
          314185,
          80879,
          1019945,
          19739,
          1662688,
          3118,
          556877,
          261966,
          1771058,
          1285951,
          1154804,
          3235091,
          846537,
          558751,
          1803658,
          172048,
          890139,
          1096884,
          516280,
          1439145,
          822749,
          587014,
          1504332,
          1825908,
          678837,
          189295,
          273706,
          251793,
          317516,
          235386,
          399118,
          569414,
          371132,
          343361,
          236446,
          249357,
          406774,
          278236,
          390904,
          379686,
          386707,
          253943,
          201191,
          231334,
          296418,
          145849,
          369529,
          205308,
          359287,
          216854,
          366478,
          260420,
          308924,
          464737,
          358724,
          326780,
          578364,
          254315,
          220958,
          328947,
          195662,
          294405,
          301407,
          326886,
          261261,
          200939,
          195958,
          300692,
          457560,
          587735,
          677879,
          342839,
          567074,
          716409,
          509609,
          166399,
          436700,
          334833,
          410948,
          421593,
          389430,
          333870,
          450489,
          362378,
          377875,
          329668,
          398237,
          291181,
          285576,
          246810,
          259333,
          422430,
          233896,
          249493,
          346453,
          448010,
          466055,
          435629,
          329280,
          297581,
          405326,
          268280,
          363631,
          283857,
          295957,
          468959,
          411376,
          542897,
          403829
         ],
         "y0": " ",
         "yaxis": "y"
        }
       ],
       "layout": {
        "boxmode": "group",
        "legend": {
         "tracegroupgap": 0
        },
        "template": {
         "data": {
          "bar": [
           {
            "error_x": {
             "color": "#2a3f5f"
            },
            "error_y": {
             "color": "#2a3f5f"
            },
            "marker": {
             "line": {
              "color": "#E5ECF6",
              "width": 0.5
             },
             "pattern": {
              "fillmode": "overlay",
              "size": 10,
              "solidity": 0.2
             }
            },
            "type": "bar"
           }
          ],
          "barpolar": [
           {
            "marker": {
             "line": {
              "color": "#E5ECF6",
              "width": 0.5
             },
             "pattern": {
              "fillmode": "overlay",
              "size": 10,
              "solidity": 0.2
             }
            },
            "type": "barpolar"
           }
          ],
          "carpet": [
           {
            "aaxis": {
             "endlinecolor": "#2a3f5f",
             "gridcolor": "white",
             "linecolor": "white",
             "minorgridcolor": "white",
             "startlinecolor": "#2a3f5f"
            },
            "baxis": {
             "endlinecolor": "#2a3f5f",
             "gridcolor": "white",
             "linecolor": "white",
             "minorgridcolor": "white",
             "startlinecolor": "#2a3f5f"
            },
            "type": "carpet"
           }
          ],
          "choropleth": [
           {
            "colorbar": {
             "outlinewidth": 0,
             "ticks": ""
            },
            "type": "choropleth"
           }
          ],
          "contour": [
           {
            "colorbar": {
             "outlinewidth": 0,
             "ticks": ""
            },
            "colorscale": [
             [
              0,
              "#0d0887"
             ],
             [
              0.1111111111111111,
              "#46039f"
             ],
             [
              0.2222222222222222,
              "#7201a8"
             ],
             [
              0.3333333333333333,
              "#9c179e"
             ],
             [
              0.4444444444444444,
              "#bd3786"
             ],
             [
              0.5555555555555556,
              "#d8576b"
             ],
             [
              0.6666666666666666,
              "#ed7953"
             ],
             [
              0.7777777777777778,
              "#fb9f3a"
             ],
             [
              0.8888888888888888,
              "#fdca26"
             ],
             [
              1,
              "#f0f921"
             ]
            ],
            "type": "contour"
           }
          ],
          "contourcarpet": [
           {
            "colorbar": {
             "outlinewidth": 0,
             "ticks": ""
            },
            "type": "contourcarpet"
           }
          ],
          "heatmap": [
           {
            "colorbar": {
             "outlinewidth": 0,
             "ticks": ""
            },
            "colorscale": [
             [
              0,
              "#0d0887"
             ],
             [
              0.1111111111111111,
              "#46039f"
             ],
             [
              0.2222222222222222,
              "#7201a8"
             ],
             [
              0.3333333333333333,
              "#9c179e"
             ],
             [
              0.4444444444444444,
              "#bd3786"
             ],
             [
              0.5555555555555556,
              "#d8576b"
             ],
             [
              0.6666666666666666,
              "#ed7953"
             ],
             [
              0.7777777777777778,
              "#fb9f3a"
             ],
             [
              0.8888888888888888,
              "#fdca26"
             ],
             [
              1,
              "#f0f921"
             ]
            ],
            "type": "heatmap"
           }
          ],
          "heatmapgl": [
           {
            "colorbar": {
             "outlinewidth": 0,
             "ticks": ""
            },
            "colorscale": [
             [
              0,
              "#0d0887"
             ],
             [
              0.1111111111111111,
              "#46039f"
             ],
             [
              0.2222222222222222,
              "#7201a8"
             ],
             [
              0.3333333333333333,
              "#9c179e"
             ],
             [
              0.4444444444444444,
              "#bd3786"
             ],
             [
              0.5555555555555556,
              "#d8576b"
             ],
             [
              0.6666666666666666,
              "#ed7953"
             ],
             [
              0.7777777777777778,
              "#fb9f3a"
             ],
             [
              0.8888888888888888,
              "#fdca26"
             ],
             [
              1,
              "#f0f921"
             ]
            ],
            "type": "heatmapgl"
           }
          ],
          "histogram": [
           {
            "marker": {
             "pattern": {
              "fillmode": "overlay",
              "size": 10,
              "solidity": 0.2
             }
            },
            "type": "histogram"
           }
          ],
          "histogram2d": [
           {
            "colorbar": {
             "outlinewidth": 0,
             "ticks": ""
            },
            "colorscale": [
             [
              0,
              "#0d0887"
             ],
             [
              0.1111111111111111,
              "#46039f"
             ],
             [
              0.2222222222222222,
              "#7201a8"
             ],
             [
              0.3333333333333333,
              "#9c179e"
             ],
             [
              0.4444444444444444,
              "#bd3786"
             ],
             [
              0.5555555555555556,
              "#d8576b"
             ],
             [
              0.6666666666666666,
              "#ed7953"
             ],
             [
              0.7777777777777778,
              "#fb9f3a"
             ],
             [
              0.8888888888888888,
              "#fdca26"
             ],
             [
              1,
              "#f0f921"
             ]
            ],
            "type": "histogram2d"
           }
          ],
          "histogram2dcontour": [
           {
            "colorbar": {
             "outlinewidth": 0,
             "ticks": ""
            },
            "colorscale": [
             [
              0,
              "#0d0887"
             ],
             [
              0.1111111111111111,
              "#46039f"
             ],
             [
              0.2222222222222222,
              "#7201a8"
             ],
             [
              0.3333333333333333,
              "#9c179e"
             ],
             [
              0.4444444444444444,
              "#bd3786"
             ],
             [
              0.5555555555555556,
              "#d8576b"
             ],
             [
              0.6666666666666666,
              "#ed7953"
             ],
             [
              0.7777777777777778,
              "#fb9f3a"
             ],
             [
              0.8888888888888888,
              "#fdca26"
             ],
             [
              1,
              "#f0f921"
             ]
            ],
            "type": "histogram2dcontour"
           }
          ],
          "mesh3d": [
           {
            "colorbar": {
             "outlinewidth": 0,
             "ticks": ""
            },
            "type": "mesh3d"
           }
          ],
          "parcoords": [
           {
            "line": {
             "colorbar": {
              "outlinewidth": 0,
              "ticks": ""
             }
            },
            "type": "parcoords"
           }
          ],
          "pie": [
           {
            "automargin": true,
            "type": "pie"
           }
          ],
          "scatter": [
           {
            "fillpattern": {
             "fillmode": "overlay",
             "size": 10,
             "solidity": 0.2
            },
            "type": "scatter"
           }
          ],
          "scatter3d": [
           {
            "line": {
             "colorbar": {
              "outlinewidth": 0,
              "ticks": ""
             }
            },
            "marker": {
             "colorbar": {
              "outlinewidth": 0,
              "ticks": ""
             }
            },
            "type": "scatter3d"
           }
          ],
          "scattercarpet": [
           {
            "marker": {
             "colorbar": {
              "outlinewidth": 0,
              "ticks": ""
             }
            },
            "type": "scattercarpet"
           }
          ],
          "scattergeo": [
           {
            "marker": {
             "colorbar": {
              "outlinewidth": 0,
              "ticks": ""
             }
            },
            "type": "scattergeo"
           }
          ],
          "scattergl": [
           {
            "marker": {
             "colorbar": {
              "outlinewidth": 0,
              "ticks": ""
             }
            },
            "type": "scattergl"
           }
          ],
          "scattermapbox": [
           {
            "marker": {
             "colorbar": {
              "outlinewidth": 0,
              "ticks": ""
             }
            },
            "type": "scattermapbox"
           }
          ],
          "scatterpolar": [
           {
            "marker": {
             "colorbar": {
              "outlinewidth": 0,
              "ticks": ""
             }
            },
            "type": "scatterpolar"
           }
          ],
          "scatterpolargl": [
           {
            "marker": {
             "colorbar": {
              "outlinewidth": 0,
              "ticks": ""
             }
            },
            "type": "scatterpolargl"
           }
          ],
          "scatterternary": [
           {
            "marker": {
             "colorbar": {
              "outlinewidth": 0,
              "ticks": ""
             }
            },
            "type": "scatterternary"
           }
          ],
          "surface": [
           {
            "colorbar": {
             "outlinewidth": 0,
             "ticks": ""
            },
            "colorscale": [
             [
              0,
              "#0d0887"
             ],
             [
              0.1111111111111111,
              "#46039f"
             ],
             [
              0.2222222222222222,
              "#7201a8"
             ],
             [
              0.3333333333333333,
              "#9c179e"
             ],
             [
              0.4444444444444444,
              "#bd3786"
             ],
             [
              0.5555555555555556,
              "#d8576b"
             ],
             [
              0.6666666666666666,
              "#ed7953"
             ],
             [
              0.7777777777777778,
              "#fb9f3a"
             ],
             [
              0.8888888888888888,
              "#fdca26"
             ],
             [
              1,
              "#f0f921"
             ]
            ],
            "type": "surface"
           }
          ],
          "table": [
           {
            "cells": {
             "fill": {
              "color": "#EBF0F8"
             },
             "line": {
              "color": "white"
             }
            },
            "header": {
             "fill": {
              "color": "#C8D4E3"
             },
             "line": {
              "color": "white"
             }
            },
            "type": "table"
           }
          ]
         },
         "layout": {
          "annotationdefaults": {
           "arrowcolor": "#2a3f5f",
           "arrowhead": 0,
           "arrowwidth": 1
          },
          "autotypenumbers": "strict",
          "coloraxis": {
           "colorbar": {
            "outlinewidth": 0,
            "ticks": ""
           }
          },
          "colorscale": {
           "diverging": [
            [
             0,
             "#8e0152"
            ],
            [
             0.1,
             "#c51b7d"
            ],
            [
             0.2,
             "#de77ae"
            ],
            [
             0.3,
             "#f1b6da"
            ],
            [
             0.4,
             "#fde0ef"
            ],
            [
             0.5,
             "#f7f7f7"
            ],
            [
             0.6,
             "#e6f5d0"
            ],
            [
             0.7,
             "#b8e186"
            ],
            [
             0.8,
             "#7fbc41"
            ],
            [
             0.9,
             "#4d9221"
            ],
            [
             1,
             "#276419"
            ]
           ],
           "sequential": [
            [
             0,
             "#0d0887"
            ],
            [
             0.1111111111111111,
             "#46039f"
            ],
            [
             0.2222222222222222,
             "#7201a8"
            ],
            [
             0.3333333333333333,
             "#9c179e"
            ],
            [
             0.4444444444444444,
             "#bd3786"
            ],
            [
             0.5555555555555556,
             "#d8576b"
            ],
            [
             0.6666666666666666,
             "#ed7953"
            ],
            [
             0.7777777777777778,
             "#fb9f3a"
            ],
            [
             0.8888888888888888,
             "#fdca26"
            ],
            [
             1,
             "#f0f921"
            ]
           ],
           "sequentialminus": [
            [
             0,
             "#0d0887"
            ],
            [
             0.1111111111111111,
             "#46039f"
            ],
            [
             0.2222222222222222,
             "#7201a8"
            ],
            [
             0.3333333333333333,
             "#9c179e"
            ],
            [
             0.4444444444444444,
             "#bd3786"
            ],
            [
             0.5555555555555556,
             "#d8576b"
            ],
            [
             0.6666666666666666,
             "#ed7953"
            ],
            [
             0.7777777777777778,
             "#fb9f3a"
            ],
            [
             0.8888888888888888,
             "#fdca26"
            ],
            [
             1,
             "#f0f921"
            ]
           ]
          },
          "colorway": [
           "#636efa",
           "#EF553B",
           "#00cc96",
           "#ab63fa",
           "#FFA15A",
           "#19d3f3",
           "#FF6692",
           "#B6E880",
           "#FF97FF",
           "#FECB52"
          ],
          "font": {
           "color": "#2a3f5f"
          },
          "geo": {
           "bgcolor": "white",
           "lakecolor": "white",
           "landcolor": "#E5ECF6",
           "showlakes": true,
           "showland": true,
           "subunitcolor": "white"
          },
          "hoverlabel": {
           "align": "left"
          },
          "hovermode": "closest",
          "mapbox": {
           "style": "light"
          },
          "paper_bgcolor": "white",
          "plot_bgcolor": "#E5ECF6",
          "polar": {
           "angularaxis": {
            "gridcolor": "white",
            "linecolor": "white",
            "ticks": ""
           },
           "bgcolor": "#E5ECF6",
           "radialaxis": {
            "gridcolor": "white",
            "linecolor": "white",
            "ticks": ""
           }
          },
          "scene": {
           "xaxis": {
            "backgroundcolor": "#E5ECF6",
            "gridcolor": "white",
            "gridwidth": 2,
            "linecolor": "white",
            "showbackground": true,
            "ticks": "",
            "zerolinecolor": "white"
           },
           "yaxis": {
            "backgroundcolor": "#E5ECF6",
            "gridcolor": "white",
            "gridwidth": 2,
            "linecolor": "white",
            "showbackground": true,
            "ticks": "",
            "zerolinecolor": "white"
           },
           "zaxis": {
            "backgroundcolor": "#E5ECF6",
            "gridcolor": "white",
            "gridwidth": 2,
            "linecolor": "white",
            "showbackground": true,
            "ticks": "",
            "zerolinecolor": "white"
           }
          },
          "shapedefaults": {
           "line": {
            "color": "#2a3f5f"
           }
          },
          "ternary": {
           "aaxis": {
            "gridcolor": "white",
            "linecolor": "white",
            "ticks": ""
           },
           "baxis": {
            "gridcolor": "white",
            "linecolor": "white",
            "ticks": ""
           },
           "bgcolor": "#E5ECF6",
           "caxis": {
            "gridcolor": "white",
            "linecolor": "white",
            "ticks": ""
           }
          },
          "title": {
           "x": 0.05
          },
          "xaxis": {
           "automargin": true,
           "gridcolor": "white",
           "linecolor": "white",
           "ticks": "",
           "title": {
            "standoff": 15
           },
           "zerolinecolor": "white",
           "zerolinewidth": 2
          },
          "yaxis": {
           "automargin": true,
           "gridcolor": "white",
           "linecolor": "white",
           "ticks": "",
           "title": {
            "standoff": 15
           },
           "zerolinecolor": "white",
           "zerolinewidth": 2
          }
         }
        },
        "title": {
         "text": "Bam read counts distribution split up by tools use to align reads"
        },
        "xaxis": {
         "anchor": "y",
         "domain": [
          0,
          1
         ],
         "title": {
          "text": "aligner"
         }
        },
        "yaxis": {
         "anchor": "x",
         "domain": [
          0,
          1
         ],
         "title": {
          "text": "num_reads"
         }
        }
       }
      },
      "text/html": [
       "<div>                            <div id=\"325f4136-3e9f-4e54-8631-58e4b629d233\" class=\"plotly-graph-div\" style=\"height:525px; width:100%;\"></div>            <script type=\"text/javascript\">                require([\"plotly\"], function(Plotly) {                    window.PLOTLYENV=window.PLOTLYENV || {};                                    if (document.getElementById(\"325f4136-3e9f-4e54-8631-58e4b629d233\")) {                    Plotly.newPlot(                        \"325f4136-3e9f-4e54-8631-58e4b629d233\",                        [{\"alignmentgroup\":\"True\",\"hovertemplate\":\"aligner=%{x}<br>num_reads=%{y}<extra></extra>\",\"legendgroup\":\"\",\"marker\":{\"color\":\"#636efa\"},\"name\":\"\",\"notched\":false,\"offsetgroup\":\"\",\"orientation\":\"v\",\"showlegend\":false,\"x\":[\"bwa\",\"bwa\",\"bwa\",\"bwa\",\"bwa\",\"bwa\",\"bwa\",\"bwa\",\"bwa\",\"bwa\",\"bwa\",\"bwa\",\"bwa\",\"bwa\",\"bwa\",\"bwa\",\"bwa\",\"bwa\",\"bwa\",\"bwa\",\"bwa\",\"bwa\",\"bwa\",\"bwa\",\"bwa\",\"bwa\",\"bwa\",\"bwa\",\"bwa\",\"bwa\",\"bwa\",\"bwa\",\"bwa\",\"bwa\",\"bwa\",\"bwa\",\"bwa\",\"bwa\",\"bwa\",\"bwa\",\"bwa\",\"bwa\",\"bwa\",\"bwa\",\"bwa\",\"bwa\",\"bwa\",\"bwa\",\"bwa\",\"bwa\",\"bwa\",\"bwa\",\"bwa\",\"bwa\",\"bwa\",\"bwa\",\"bwa\",\"bwa\",\"bwa\",\"bwa\",\"bwa\",\"bwa\",\"bwa\",\"bwa\",\"bwa\",\"bwa\",\"bwa\",\"bwa\",\"bwa\",\"bwa\",\"bwa\",\"bwa\",\"bwa\",\"bwa\",\"bwa\",\"bwa\",\"bwa\",\"bwa\",\"bwa\",\"bwa\",\"bwa\",\"bwa\",\"bwa\",\"bwa\",\"bwa\",\"bwa\",\"bwa\",\"bwa\",\"bwa\",\"bwa\",\"bwa\",\"bwa\",\"bwa\",\"bwa\",\"bwa\",\"bwa\",\"bwa\",\"bwa\",\"bwa\",\"bwa\",\"bwa\",\"bwa\",\"bwa\",\"bwa\",\"bwa\",\"bwa\",\"bwa\",\"bwa\",\"bwa\",\"bwa\",\"bwa\",\"bwa\",\"bwa\",\"bwa\",\"bwa\",\"bwa\",\"bwa\",\"bwa\",\"bwa\",\"bwa\",\"bwa\",\"bwa\",\"bwa\",\"bwa\",\"bwa\",\"bwa\",\"minimap2\",\"minimap2\",\"minimap2\",\"minimap2\",\"minimap2\",\"minimap2\",\"minimap2\",\"minimap2\",\"minimap2\",\"minimap2\",\"minimap2\",\"minimap2\",\"minimap2\",\"minimap2\",\"minimap2\",\"minimap2\",\"minimap2\",\"minimap2\",\"minimap2\",\"minimap2\",\"minimap2\",\"minimap2\",\"minimap2\",\"minimap2\",\"minimap2\",\"minimap2\",\"minimap2\",\"minimap2\",\"minimap2\",\"minimap2\",\"minimap2\",\"minimap2\",\"minimap2\",\"minimap2\",\"minimap2\",\"minimap2\",\"minimap2\",\"minimap2\",\"minimap2\",\"minimap2\",\"minimap2\",\"minimap2\",\"minimap2\",\"minimap2\",\"minimap2\",\"minimap2\",\"minimap2\",\"minimap2\",\"minimap2\",\"minimap2\",\"minimap2\",\"minimap2\",\"minimap2\",\"minimap2\",\"minimap2\",\"minimap2\",\"minimap2\",\"minimap2\",\"minimap2\",\"minimap2\",\"minimap2\",\"minimap2\",\"minimap2\",\"minimap2\",\"minimap2\",\"minimap2\",\"minimap2\",\"minimap2\",\"minimap2\",\"minimap2\",\"minimap2\",\"minimap2\",\"minimap2\",\"minimap2\",\"minimap2\",\"minimap2\",\"minimap2\",\"minimap2\",\"minimap2\",\"minimap2\",\"minimap2\",\"minimap2\",\"minimap2\",\"minimap2\",\"minimap2\",\"minimap2\",\"minimap2\",\"minimap2\",\"minimap2\",\"minimap2\",\"minimap2\",\"minimap2\",\"minimap2\",\"minimap2\",\"minimap2\",\"minimap2\",\"minimap2\",\"minimap2\",\"minimap2\",\"minimap2\",\"minimap2\",\"minimap2\",\"minimap2\",\"minimap2\",\"minimap2\",\"minimap2\",\"minimap2\",\"minimap2\",\"minimap2\",\"minimap2\",\"minimap2\",\"minimap2\",\"minimap2\",\"minimap2\",\"minimap2\",\"minimap2\",\"minimap2\",\"minimap2\",\"minimap2\",\"minimap2\",\"minimap2\",\"minimap2\",\"minimap2\",\"minimap2\",\"minimap2\",\"minimap2\"],\"x0\":\" \",\"xaxis\":\"x\",\"y\":[423031,2477301,625803,334617,876549,2487946,1677177,1495138,1094141,1390062,957343,1887639,337907,1731524,1024425,533099,885833,314852,92425,1025218,20079,1663894,3355,557059,263949,1771652,1289166,1156201,3237693,846885,560556,1804423,172081,891784,1112313,516407,1439354,822918,587227,1505186,1829478,680768,189378,273745,251928,317693,235449,399339,569558,371335,343392,236628,249530,406869,278317,390942,379737,386767,253970,201219,231428,297264,145865,369846,205927,359406,216885,366523,260463,309136,464941,358878,326837,578642,254945,220983,328988,195695,294577,301437,327138,261420,200971,196004,301706,457693,588211,678560,343097,567604,716564,512320,166419,437200,335194,411150,423443,389492,333950,450586,362423,377909,329896,398597,291210,285823,246962,259464,422545,233949,249546,346769,448382,466393,435852,329469,297617,405364,268313,364669,283888,296174,469195,411710,543058,405030,422837,2476625,625041,333359,873065,2485955,1676851,1494357,1094032,1388785,953321,1880625,336685,1731368,1024235,532855,885721,314185,80879,1019945,19739,1662688,3118,556877,261966,1771058,1285951,1154804,3235091,846537,558751,1803658,172048,890139,1096884,516280,1439145,822749,587014,1504332,1825908,678837,189295,273706,251793,317516,235386,399118,569414,371132,343361,236446,249357,406774,278236,390904,379686,386707,253943,201191,231334,296418,145849,369529,205308,359287,216854,366478,260420,308924,464737,358724,326780,578364,254315,220958,328947,195662,294405,301407,326886,261261,200939,195958,300692,457560,587735,677879,342839,567074,716409,509609,166399,436700,334833,410948,421593,389430,333870,450489,362378,377875,329668,398237,291181,285576,246810,259333,422430,233896,249493,346453,448010,466055,435629,329280,297581,405326,268280,363631,283857,295957,468959,411376,542897,403829],\"y0\":\" \",\"yaxis\":\"y\",\"type\":\"box\"}],                        {\"template\":{\"data\":{\"histogram2dcontour\":[{\"type\":\"histogram2dcontour\",\"colorbar\":{\"outlinewidth\":0,\"ticks\":\"\"},\"colorscale\":[[0.0,\"#0d0887\"],[0.1111111111111111,\"#46039f\"],[0.2222222222222222,\"#7201a8\"],[0.3333333333333333,\"#9c179e\"],[0.4444444444444444,\"#bd3786\"],[0.5555555555555556,\"#d8576b\"],[0.6666666666666666,\"#ed7953\"],[0.7777777777777778,\"#fb9f3a\"],[0.8888888888888888,\"#fdca26\"],[1.0,\"#f0f921\"]]}],\"choropleth\":[{\"type\":\"choropleth\",\"colorbar\":{\"outlinewidth\":0,\"ticks\":\"\"}}],\"histogram2d\":[{\"type\":\"histogram2d\",\"colorbar\":{\"outlinewidth\":0,\"ticks\":\"\"},\"colorscale\":[[0.0,\"#0d0887\"],[0.1111111111111111,\"#46039f\"],[0.2222222222222222,\"#7201a8\"],[0.3333333333333333,\"#9c179e\"],[0.4444444444444444,\"#bd3786\"],[0.5555555555555556,\"#d8576b\"],[0.6666666666666666,\"#ed7953\"],[0.7777777777777778,\"#fb9f3a\"],[0.8888888888888888,\"#fdca26\"],[1.0,\"#f0f921\"]]}],\"heatmap\":[{\"type\":\"heatmap\",\"colorbar\":{\"outlinewidth\":0,\"ticks\":\"\"},\"colorscale\":[[0.0,\"#0d0887\"],[0.1111111111111111,\"#46039f\"],[0.2222222222222222,\"#7201a8\"],[0.3333333333333333,\"#9c179e\"],[0.4444444444444444,\"#bd3786\"],[0.5555555555555556,\"#d8576b\"],[0.6666666666666666,\"#ed7953\"],[0.7777777777777778,\"#fb9f3a\"],[0.8888888888888888,\"#fdca26\"],[1.0,\"#f0f921\"]]}],\"heatmapgl\":[{\"type\":\"heatmapgl\",\"colorbar\":{\"outlinewidth\":0,\"ticks\":\"\"},\"colorscale\":[[0.0,\"#0d0887\"],[0.1111111111111111,\"#46039f\"],[0.2222222222222222,\"#7201a8\"],[0.3333333333333333,\"#9c179e\"],[0.4444444444444444,\"#bd3786\"],[0.5555555555555556,\"#d8576b\"],[0.6666666666666666,\"#ed7953\"],[0.7777777777777778,\"#fb9f3a\"],[0.8888888888888888,\"#fdca26\"],[1.0,\"#f0f921\"]]}],\"contourcarpet\":[{\"type\":\"contourcarpet\",\"colorbar\":{\"outlinewidth\":0,\"ticks\":\"\"}}],\"contour\":[{\"type\":\"contour\",\"colorbar\":{\"outlinewidth\":0,\"ticks\":\"\"},\"colorscale\":[[0.0,\"#0d0887\"],[0.1111111111111111,\"#46039f\"],[0.2222222222222222,\"#7201a8\"],[0.3333333333333333,\"#9c179e\"],[0.4444444444444444,\"#bd3786\"],[0.5555555555555556,\"#d8576b\"],[0.6666666666666666,\"#ed7953\"],[0.7777777777777778,\"#fb9f3a\"],[0.8888888888888888,\"#fdca26\"],[1.0,\"#f0f921\"]]}],\"surface\":[{\"type\":\"surface\",\"colorbar\":{\"outlinewidth\":0,\"ticks\":\"\"},\"colorscale\":[[0.0,\"#0d0887\"],[0.1111111111111111,\"#46039f\"],[0.2222222222222222,\"#7201a8\"],[0.3333333333333333,\"#9c179e\"],[0.4444444444444444,\"#bd3786\"],[0.5555555555555556,\"#d8576b\"],[0.6666666666666666,\"#ed7953\"],[0.7777777777777778,\"#fb9f3a\"],[0.8888888888888888,\"#fdca26\"],[1.0,\"#f0f921\"]]}],\"mesh3d\":[{\"type\":\"mesh3d\",\"colorbar\":{\"outlinewidth\":0,\"ticks\":\"\"}}],\"scatter\":[{\"fillpattern\":{\"fillmode\":\"overlay\",\"size\":10,\"solidity\":0.2},\"type\":\"scatter\"}],\"parcoords\":[{\"type\":\"parcoords\",\"line\":{\"colorbar\":{\"outlinewidth\":0,\"ticks\":\"\"}}}],\"scatterpolargl\":[{\"type\":\"scatterpolargl\",\"marker\":{\"colorbar\":{\"outlinewidth\":0,\"ticks\":\"\"}}}],\"bar\":[{\"error_x\":{\"color\":\"#2a3f5f\"},\"error_y\":{\"color\":\"#2a3f5f\"},\"marker\":{\"line\":{\"color\":\"#E5ECF6\",\"width\":0.5},\"pattern\":{\"fillmode\":\"overlay\",\"size\":10,\"solidity\":0.2}},\"type\":\"bar\"}],\"scattergeo\":[{\"type\":\"scattergeo\",\"marker\":{\"colorbar\":{\"outlinewidth\":0,\"ticks\":\"\"}}}],\"scatterpolar\":[{\"type\":\"scatterpolar\",\"marker\":{\"colorbar\":{\"outlinewidth\":0,\"ticks\":\"\"}}}],\"histogram\":[{\"marker\":{\"pattern\":{\"fillmode\":\"overlay\",\"size\":10,\"solidity\":0.2}},\"type\":\"histogram\"}],\"scattergl\":[{\"type\":\"scattergl\",\"marker\":{\"colorbar\":{\"outlinewidth\":0,\"ticks\":\"\"}}}],\"scatter3d\":[{\"type\":\"scatter3d\",\"line\":{\"colorbar\":{\"outlinewidth\":0,\"ticks\":\"\"}},\"marker\":{\"colorbar\":{\"outlinewidth\":0,\"ticks\":\"\"}}}],\"scattermapbox\":[{\"type\":\"scattermapbox\",\"marker\":{\"colorbar\":{\"outlinewidth\":0,\"ticks\":\"\"}}}],\"scatterternary\":[{\"type\":\"scatterternary\",\"marker\":{\"colorbar\":{\"outlinewidth\":0,\"ticks\":\"\"}}}],\"scattercarpet\":[{\"type\":\"scattercarpet\",\"marker\":{\"colorbar\":{\"outlinewidth\":0,\"ticks\":\"\"}}}],\"carpet\":[{\"aaxis\":{\"endlinecolor\":\"#2a3f5f\",\"gridcolor\":\"white\",\"linecolor\":\"white\",\"minorgridcolor\":\"white\",\"startlinecolor\":\"#2a3f5f\"},\"baxis\":{\"endlinecolor\":\"#2a3f5f\",\"gridcolor\":\"white\",\"linecolor\":\"white\",\"minorgridcolor\":\"white\",\"startlinecolor\":\"#2a3f5f\"},\"type\":\"carpet\"}],\"table\":[{\"cells\":{\"fill\":{\"color\":\"#EBF0F8\"},\"line\":{\"color\":\"white\"}},\"header\":{\"fill\":{\"color\":\"#C8D4E3\"},\"line\":{\"color\":\"white\"}},\"type\":\"table\"}],\"barpolar\":[{\"marker\":{\"line\":{\"color\":\"#E5ECF6\",\"width\":0.5},\"pattern\":{\"fillmode\":\"overlay\",\"size\":10,\"solidity\":0.2}},\"type\":\"barpolar\"}],\"pie\":[{\"automargin\":true,\"type\":\"pie\"}]},\"layout\":{\"autotypenumbers\":\"strict\",\"colorway\":[\"#636efa\",\"#EF553B\",\"#00cc96\",\"#ab63fa\",\"#FFA15A\",\"#19d3f3\",\"#FF6692\",\"#B6E880\",\"#FF97FF\",\"#FECB52\"],\"font\":{\"color\":\"#2a3f5f\"},\"hovermode\":\"closest\",\"hoverlabel\":{\"align\":\"left\"},\"paper_bgcolor\":\"white\",\"plot_bgcolor\":\"#E5ECF6\",\"polar\":{\"bgcolor\":\"#E5ECF6\",\"angularaxis\":{\"gridcolor\":\"white\",\"linecolor\":\"white\",\"ticks\":\"\"},\"radialaxis\":{\"gridcolor\":\"white\",\"linecolor\":\"white\",\"ticks\":\"\"}},\"ternary\":{\"bgcolor\":\"#E5ECF6\",\"aaxis\":{\"gridcolor\":\"white\",\"linecolor\":\"white\",\"ticks\":\"\"},\"baxis\":{\"gridcolor\":\"white\",\"linecolor\":\"white\",\"ticks\":\"\"},\"caxis\":{\"gridcolor\":\"white\",\"linecolor\":\"white\",\"ticks\":\"\"}},\"coloraxis\":{\"colorbar\":{\"outlinewidth\":0,\"ticks\":\"\"}},\"colorscale\":{\"sequential\":[[0.0,\"#0d0887\"],[0.1111111111111111,\"#46039f\"],[0.2222222222222222,\"#7201a8\"],[0.3333333333333333,\"#9c179e\"],[0.4444444444444444,\"#bd3786\"],[0.5555555555555556,\"#d8576b\"],[0.6666666666666666,\"#ed7953\"],[0.7777777777777778,\"#fb9f3a\"],[0.8888888888888888,\"#fdca26\"],[1.0,\"#f0f921\"]],\"sequentialminus\":[[0.0,\"#0d0887\"],[0.1111111111111111,\"#46039f\"],[0.2222222222222222,\"#7201a8\"],[0.3333333333333333,\"#9c179e\"],[0.4444444444444444,\"#bd3786\"],[0.5555555555555556,\"#d8576b\"],[0.6666666666666666,\"#ed7953\"],[0.7777777777777778,\"#fb9f3a\"],[0.8888888888888888,\"#fdca26\"],[1.0,\"#f0f921\"]],\"diverging\":[[0,\"#8e0152\"],[0.1,\"#c51b7d\"],[0.2,\"#de77ae\"],[0.3,\"#f1b6da\"],[0.4,\"#fde0ef\"],[0.5,\"#f7f7f7\"],[0.6,\"#e6f5d0\"],[0.7,\"#b8e186\"],[0.8,\"#7fbc41\"],[0.9,\"#4d9221\"],[1,\"#276419\"]]},\"xaxis\":{\"gridcolor\":\"white\",\"linecolor\":\"white\",\"ticks\":\"\",\"title\":{\"standoff\":15},\"zerolinecolor\":\"white\",\"automargin\":true,\"zerolinewidth\":2},\"yaxis\":{\"gridcolor\":\"white\",\"linecolor\":\"white\",\"ticks\":\"\",\"title\":{\"standoff\":15},\"zerolinecolor\":\"white\",\"automargin\":true,\"zerolinewidth\":2},\"scene\":{\"xaxis\":{\"backgroundcolor\":\"#E5ECF6\",\"gridcolor\":\"white\",\"linecolor\":\"white\",\"showbackground\":true,\"ticks\":\"\",\"zerolinecolor\":\"white\",\"gridwidth\":2},\"yaxis\":{\"backgroundcolor\":\"#E5ECF6\",\"gridcolor\":\"white\",\"linecolor\":\"white\",\"showbackground\":true,\"ticks\":\"\",\"zerolinecolor\":\"white\",\"gridwidth\":2},\"zaxis\":{\"backgroundcolor\":\"#E5ECF6\",\"gridcolor\":\"white\",\"linecolor\":\"white\",\"showbackground\":true,\"ticks\":\"\",\"zerolinecolor\":\"white\",\"gridwidth\":2}},\"shapedefaults\":{\"line\":{\"color\":\"#2a3f5f\"}},\"annotationdefaults\":{\"arrowcolor\":\"#2a3f5f\",\"arrowhead\":0,\"arrowwidth\":1},\"geo\":{\"bgcolor\":\"white\",\"landcolor\":\"#E5ECF6\",\"subunitcolor\":\"white\",\"showland\":true,\"showlakes\":true,\"lakecolor\":\"white\"},\"title\":{\"x\":0.05},\"mapbox\":{\"style\":\"light\"}}},\"xaxis\":{\"anchor\":\"y\",\"domain\":[0.0,1.0],\"title\":{\"text\":\"aligner\"}},\"yaxis\":{\"anchor\":\"x\",\"domain\":[0.0,1.0],\"title\":{\"text\":\"num_reads\"}},\"legend\":{\"tracegroupgap\":0},\"title\":{\"text\":\"Bam read counts distribution split up by tools use to align reads\"},\"boxmode\":\"group\"},                        {\"responsive\": true}                    ).then(function(){\n",
       "                            \n",
       "var gd = document.getElementById('325f4136-3e9f-4e54-8631-58e4b629d233');\n",
       "var x = new MutationObserver(function (mutations, observer) {{\n",
       "        var display = window.getComputedStyle(gd).display;\n",
       "        if (!display || display === 'none') {{\n",
       "            console.log([gd, 'removed!']);\n",
       "            Plotly.purge(gd);\n",
       "            observer.disconnect();\n",
       "        }}\n",
       "}});\n",
       "\n",
       "// Listen for the removal of the full notebook cells\n",
       "var notebookContainer = gd.closest('#notebook-container');\n",
       "if (notebookContainer) {{\n",
       "    x.observe(notebookContainer, {childList: true});\n",
       "}}\n",
       "\n",
       "// Listen for the clearing of the current output cell\n",
       "var outputEl = gd.closest('.output');\n",
       "if (outputEl) {{\n",
       "    x.observe(outputEl, {childList: true});\n",
       "}}\n",
       "\n",
       "                        })                };                });            </script>        </div>"
      ]
     },
     "metadata": {},
     "output_type": "display_data"
    }
   ],
   "source": [
    "px.box(bam_counts, x=\"aligner\", y=\"num_reads\", title=\"Bam read counts distribution split up by tools use to align reads\")"
   ]
  },
  {
   "cell_type": "code",
   "execution_count": 33,
   "metadata": {},
   "outputs": [
    {
     "data": {
      "text/html": [
       "<div>\n",
       "<style scoped>\n",
       "    .dataframe tbody tr th:only-of-type {\n",
       "        vertical-align: middle;\n",
       "    }\n",
       "\n",
       "    .dataframe tbody tr th {\n",
       "        vertical-align: top;\n",
       "    }\n",
       "\n",
       "    .dataframe thead th {\n",
       "        text-align: right;\n",
       "    }\n",
       "</style>\n",
       "<table border=\"1\" class=\"dataframe\">\n",
       "  <thead>\n",
       "    <tr style=\"text-align: right;\">\n",
       "      <th></th>\n",
       "      <th>sample_name</th>\n",
       "      <th>bwa</th>\n",
       "      <th>minimap2</th>\n",
       "      <th>percent_difference_abs</th>\n",
       "      <th>percent_difference</th>\n",
       "    </tr>\n",
       "  </thead>\n",
       "  <tbody>\n",
       "    <tr>\n",
       "      <th>0</th>\n",
       "      <td>wb-Mixture01</td>\n",
       "      <td>423031</td>\n",
       "      <td>422837</td>\n",
       "      <td>0.045881</td>\n",
       "      <td>0.045881</td>\n",
       "    </tr>\n",
       "    <tr>\n",
       "      <th>1</th>\n",
       "      <td>wb-Mixture02</td>\n",
       "      <td>2477301</td>\n",
       "      <td>2476625</td>\n",
       "      <td>0.027295</td>\n",
       "      <td>0.027295</td>\n",
       "    </tr>\n",
       "    <tr>\n",
       "      <th>2</th>\n",
       "      <td>wb-Mixture03</td>\n",
       "      <td>625803</td>\n",
       "      <td>625041</td>\n",
       "      <td>0.121912</td>\n",
       "      <td>0.121912</td>\n",
       "    </tr>\n",
       "    <tr>\n",
       "      <th>3</th>\n",
       "      <td>wb-Mixture04</td>\n",
       "      <td>334617</td>\n",
       "      <td>333359</td>\n",
       "      <td>0.377371</td>\n",
       "      <td>0.377371</td>\n",
       "    </tr>\n",
       "    <tr>\n",
       "      <th>4</th>\n",
       "      <td>wb-Mixture05</td>\n",
       "      <td>876549</td>\n",
       "      <td>873065</td>\n",
       "      <td>0.399054</td>\n",
       "      <td>0.399054</td>\n",
       "    </tr>\n",
       "    <tr>\n",
       "      <th>...</th>\n",
       "      <td>...</td>\n",
       "      <td>...</td>\n",
       "      <td>...</td>\n",
       "      <td>...</td>\n",
       "      <td>...</td>\n",
       "    </tr>\n",
       "    <tr>\n",
       "      <th>121</th>\n",
       "      <td>pwrb-Mixture38</td>\n",
       "      <td>296174</td>\n",
       "      <td>295957</td>\n",
       "      <td>0.073321</td>\n",
       "      <td>0.073321</td>\n",
       "    </tr>\n",
       "    <tr>\n",
       "      <th>122</th>\n",
       "      <td>pwrb-Mixture39</td>\n",
       "      <td>469195</td>\n",
       "      <td>468959</td>\n",
       "      <td>0.050324</td>\n",
       "      <td>0.050324</td>\n",
       "    </tr>\n",
       "    <tr>\n",
       "      <th>123</th>\n",
       "      <td>pwrb-Mixture40</td>\n",
       "      <td>411710</td>\n",
       "      <td>411376</td>\n",
       "      <td>0.081191</td>\n",
       "      <td>0.081191</td>\n",
       "    </tr>\n",
       "    <tr>\n",
       "      <th>124</th>\n",
       "      <td>pwrb-Mixture41</td>\n",
       "      <td>543058</td>\n",
       "      <td>542897</td>\n",
       "      <td>0.029656</td>\n",
       "      <td>0.029656</td>\n",
       "    </tr>\n",
       "    <tr>\n",
       "      <th>125</th>\n",
       "      <td>pwrb-Mixture42</td>\n",
       "      <td>405030</td>\n",
       "      <td>403829</td>\n",
       "      <td>0.297403</td>\n",
       "      <td>0.297403</td>\n",
       "    </tr>\n",
       "  </tbody>\n",
       "</table>\n",
       "<p>126 rows × 5 columns</p>\n",
       "</div>"
      ],
      "text/plain": [
       "        sample_name      bwa  minimap2  percent_difference_abs  \\\n",
       "0      wb-Mixture01   423031    422837                0.045881   \n",
       "1      wb-Mixture02  2477301   2476625                0.027295   \n",
       "2      wb-Mixture03   625803    625041                0.121912   \n",
       "3      wb-Mixture04   334617    333359                0.377371   \n",
       "4      wb-Mixture05   876549    873065                0.399054   \n",
       "..              ...      ...       ...                     ...   \n",
       "121  pwrb-Mixture38   296174    295957                0.073321   \n",
       "122  pwrb-Mixture39   469195    468959                0.050324   \n",
       "123  pwrb-Mixture40   411710    411376                0.081191   \n",
       "124  pwrb-Mixture41   543058    542897                0.029656   \n",
       "125  pwrb-Mixture42   405030    403829                0.297403   \n",
       "\n",
       "     percent_difference  \n",
       "0              0.045881  \n",
       "1              0.027295  \n",
       "2              0.121912  \n",
       "3              0.377371  \n",
       "4              0.399054  \n",
       "..                  ...  \n",
       "121            0.073321  \n",
       "122            0.050324  \n",
       "123            0.081191  \n",
       "124            0.029656  \n",
       "125            0.297403  \n",
       "\n",
       "[126 rows x 5 columns]"
      ]
     },
     "execution_count": 33,
     "metadata": {},
     "output_type": "execute_result"
    }
   ],
   "source": [
    "wide_df = pd.merge(\n",
    "    bam_counts[bam_counts[\"aligner\"]==\"bwa\"].rename(columns={\"num_reads\":\"bwa\"})[[\"sample_name\",\"bwa\"]],\n",
    "    bam_counts[bam_counts[\"aligner\"]==\"minimap2\"].rename(columns={\"num_reads\":\"minimap2\"})[[\"sample_name\",\"minimap2\"]],\n",
    ")\n",
    "# wide_df[\"difference\"] = wide_df[\"bwa\"] - wide_df[\"bwa\"]\n",
    "wide_df[\"percent_difference_abs\"] = abs(wide_df[\"bwa\"] - wide_df[\"minimap2\"]) / wide_df[\"minimap2\"] * 100\n",
    "wide_df[\"percent_difference\"] = (wide_df[\"bwa\"] - wide_df[\"minimap2\"]) / wide_df[\"minimap2\"] * 100\n",
    "wide_df"
   ]
  },
  {
   "cell_type": "code",
   "execution_count": 39,
   "metadata": {},
   "outputs": [
    {
     "data": {
      "application/vnd.plotly.v1+json": {
       "config": {
        "plotlyServerURL": "https://plot.ly"
       },
       "data": [
        {
         "alignmentgroup": "True",
         "hovertemplate": "sample_name=%{x}<br>percent_difference=%{y}<extra></extra>",
         "legendgroup": "",
         "marker": {
          "color": "#636efa",
          "pattern": {
           "shape": ""
          }
         },
         "name": "",
         "offsetgroup": "",
         "orientation": "v",
         "showlegend": false,
         "textposition": "auto",
         "type": "bar",
         "x": [
          "wb-Mixture01",
          "wb-Mixture02",
          "wb-Mixture03",
          "wb-Mixture04",
          "wb-Mixture05",
          "wb-Mixture06",
          "wb-Mixture07",
          "wb-Mixture08",
          "wb-Mixture09",
          "wb-Mixture10",
          "wb-Mixture11",
          "wb-Mixture12",
          "wb-Mixture13",
          "wb-Mixture14",
          "wb-Mixture15",
          "wb-Mixture16",
          "wb-Mixture17",
          "wb-Mixture18",
          "wb-Mixture19",
          "wb-Mixture20",
          "wb-Mixture21",
          "wb-Mixture22",
          "wb-Mixture23",
          "wb-Mixture24",
          "wb-Mixture25",
          "wb-Mixture26",
          "wb-Mixture27",
          "wb-Mixture28",
          "wb-Mixture29",
          "wb-Mixture30",
          "wb-Mixture31",
          "wb-Mixture32",
          "wb-Mixture33",
          "wb-Mixture34",
          "wb-Mixture35",
          "wb-Mixture36",
          "wb-Mixture37",
          "wb-Mixture38",
          "wb-Mixture39",
          "wb-Mixture40",
          "wb-Mixture41",
          "wb-Mixture42",
          "nwrb-Mixture01",
          "nwrb-Mixture02",
          "nwrb-Mixture03",
          "nwrb-Mixture04",
          "nwrb-Mixture05",
          "nwrb-Mixture06",
          "nwrb-Mixture07",
          "nwrb-Mixture08",
          "nwrb-Mixture09",
          "nwrb-Mixture10",
          "nwrb-Mixture11",
          "nwrb-Mixture12",
          "nwrb-Mixture13",
          "nwrb-Mixture14",
          "nwrb-Mixture15",
          "nwrb-Mixture16",
          "nwrb-Mixture17",
          "nwrb-Mixture18",
          "nwrb-Mixture19",
          "nwrb-Mixture20",
          "nwrb-Mixture21",
          "nwrb-Mixture22",
          "nwrb-Mixture23",
          "nwrb-Mixture24",
          "nwrb-Mixture25",
          "nwrb-Mixture26",
          "nwrb-Mixture27",
          "nwrb-Mixture28",
          "nwrb-Mixture29",
          "nwrb-Mixture30",
          "nwrb-Mixture31",
          "nwrb-Mixture32",
          "nwrb-Mixture33",
          "nwrb-Mixture34",
          "nwrb-Mixture35",
          "nwrb-Mixture36",
          "nwrb-Mixture37",
          "nwrb-Mixture38",
          "nwrb-Mixture39",
          "nwrb-Mixture40",
          "nwrb-Mixture41",
          "nwrb-Mixture42",
          "pwrb-Mixture01",
          "pwrb-Mixture02",
          "pwrb-Mixture03",
          "pwrb-Mixture04",
          "pwrb-Mixture05",
          "pwrb-Mixture06",
          "pwrb-Mixture07",
          "pwrb-Mixture08",
          "pwrb-Mixture09",
          "pwrb-Mixture10",
          "pwrb-Mixture11",
          "pwrb-Mixture12",
          "pwrb-Mixture13",
          "pwrb-Mixture14",
          "pwrb-Mixture15",
          "pwrb-Mixture16",
          "pwrb-Mixture17",
          "pwrb-Mixture18",
          "pwrb-Mixture19",
          "pwrb-Mixture20",
          "pwrb-Mixture21",
          "pwrb-Mixture22",
          "pwrb-Mixture23",
          "pwrb-Mixture24",
          "pwrb-Mixture25",
          "pwrb-Mixture26",
          "pwrb-Mixture27",
          "pwrb-Mixture28",
          "pwrb-Mixture29",
          "pwrb-Mixture30",
          "pwrb-Mixture31",
          "pwrb-Mixture32",
          "pwrb-Mixture33",
          "pwrb-Mixture34",
          "pwrb-Mixture35",
          "pwrb-Mixture36",
          "pwrb-Mixture37",
          "pwrb-Mixture38",
          "pwrb-Mixture39",
          "pwrb-Mixture40",
          "pwrb-Mixture41",
          "pwrb-Mixture42"
         ],
         "xaxis": "x",
         "y": [
          0.04588056390524008,
          0.027295210215515068,
          0.12191200257263124,
          0.3773709424374323,
          0.3990539077846437,
          0.08008994531276713,
          0.019441202587469012,
          0.052263281130278776,
          0.009963145502142534,
          0.09195087792566885,
          0.42189356995177907,
          0.3729611166500499,
          0.3629505323967507,
          0.009010216198982538,
          0.01855043032116653,
          0.04579106886488819,
          0.012645065432568495,
          0.21229530372232921,
          14.27564633588447,
          0.5169886611532974,
          1.7224783423679013,
          0.07253315113839758,
          7.601026298909558,
          0.032682261971674176,
          0.7569684615560798,
          0.033539274264309804,
          0.2500095260239309,
          0.12097290968857052,
          0.0804305041187404,
          0.04110865797950946,
          0.3230419274417406,
          0.04241380572148379,
          0.019180693759880962,
          0.18480259824589196,
          1.4066209371273535,
          0.02459905477647788,
          0.0145225116301693,
          0.02054089400290976,
          0.03628533561380137,
          0.05676938335420639,
          0.195519160877766,
          0.2844570935290799,
          0.04384690562349772,
          0.014248865571087226,
          0.05361546985023412,
          0.05574522228801068,
          0.026764548443832685,
          0.05537209547051248,
          0.02528915692273109,
          0.05469752001983121,
          0.009028398682436269,
          0.07697317780804074,
          0.06937844135115517,
          0.023354491683342592,
          0.02911197688293391,
          0.009721056832368048,
          0.013432151830723282,
          0.015515622939331328,
          0.010632307250052177,
          0.013917123529382527,
          0.04063388866314506,
          0.2854077687589822,
          0.010970250053137148,
          0.0857848775062309,
          0.3014982367954488,
          0.033121153840801366,
          0.014295332343419996,
          0.012279045399723857,
          0.016511788649105293,
          0.0686252929523119,
          0.043895794825890774,
          0.04292994056712124,
          0.017442927963767674,
          0.048066615487824274,
          0.24772427894540236,
          0.01131436743634537,
          0.012464013959695633,
          0.016865819627725365,
          0.058422920806372174,
          0.009953318934198608,
          0.07709109597841449,
          0.06085868154833672,
          0.015925231040265952,
          0.02347441798752794,
          0.3372221409282588,
          0.02906722615613253,
          0.08098888104332735,
          0.10046040665074446,
          0.07525398218989088,
          0.09346222891545018,
          0.021635685760508314,
          0.5319764760826438,
          0.012019303000618993,
          0.11449507671170141,
          0.10781494058232015,
          0.04915463756971685,
          0.43881183985502603,
          0.015920704619572193,
          0.023961422110402253,
          0.021532157277980152,
          0.012417972393467593,
          0.008997684419450877,
          0.06916048873412038,
          0.09039843108500717,
          0.009959441034957637,
          0.08649186206123764,
          0.061585835257890686,
          0.05051420374576317,
          0.0272234453045475,
          0.022659643602284778,
          0.02124308096820352,
          0.09121006312544558,
          0.08303386085132028,
          0.07252362918539658,
          0.05119034775003501,
          0.05739795918367348,
          0.012097546550350996,
          0.009375169616555563,
          0.012300581482033697,
          0.2854542104496041,
          0.010920991907897287,
          0.07332146223944694,
          0.05032422877053218,
          0.08119092995216055,
          0.029655717382855308,
          0.2974031087415713
         ],
         "yaxis": "y"
        }
       ],
       "layout": {
        "barmode": "relative",
        "legend": {
         "tracegroupgap": 0
        },
        "template": {
         "data": {
          "bar": [
           {
            "error_x": {
             "color": "#2a3f5f"
            },
            "error_y": {
             "color": "#2a3f5f"
            },
            "marker": {
             "line": {
              "color": "#E5ECF6",
              "width": 0.5
             },
             "pattern": {
              "fillmode": "overlay",
              "size": 10,
              "solidity": 0.2
             }
            },
            "type": "bar"
           }
          ],
          "barpolar": [
           {
            "marker": {
             "line": {
              "color": "#E5ECF6",
              "width": 0.5
             },
             "pattern": {
              "fillmode": "overlay",
              "size": 10,
              "solidity": 0.2
             }
            },
            "type": "barpolar"
           }
          ],
          "carpet": [
           {
            "aaxis": {
             "endlinecolor": "#2a3f5f",
             "gridcolor": "white",
             "linecolor": "white",
             "minorgridcolor": "white",
             "startlinecolor": "#2a3f5f"
            },
            "baxis": {
             "endlinecolor": "#2a3f5f",
             "gridcolor": "white",
             "linecolor": "white",
             "minorgridcolor": "white",
             "startlinecolor": "#2a3f5f"
            },
            "type": "carpet"
           }
          ],
          "choropleth": [
           {
            "colorbar": {
             "outlinewidth": 0,
             "ticks": ""
            },
            "type": "choropleth"
           }
          ],
          "contour": [
           {
            "colorbar": {
             "outlinewidth": 0,
             "ticks": ""
            },
            "colorscale": [
             [
              0,
              "#0d0887"
             ],
             [
              0.1111111111111111,
              "#46039f"
             ],
             [
              0.2222222222222222,
              "#7201a8"
             ],
             [
              0.3333333333333333,
              "#9c179e"
             ],
             [
              0.4444444444444444,
              "#bd3786"
             ],
             [
              0.5555555555555556,
              "#d8576b"
             ],
             [
              0.6666666666666666,
              "#ed7953"
             ],
             [
              0.7777777777777778,
              "#fb9f3a"
             ],
             [
              0.8888888888888888,
              "#fdca26"
             ],
             [
              1,
              "#f0f921"
             ]
            ],
            "type": "contour"
           }
          ],
          "contourcarpet": [
           {
            "colorbar": {
             "outlinewidth": 0,
             "ticks": ""
            },
            "type": "contourcarpet"
           }
          ],
          "heatmap": [
           {
            "colorbar": {
             "outlinewidth": 0,
             "ticks": ""
            },
            "colorscale": [
             [
              0,
              "#0d0887"
             ],
             [
              0.1111111111111111,
              "#46039f"
             ],
             [
              0.2222222222222222,
              "#7201a8"
             ],
             [
              0.3333333333333333,
              "#9c179e"
             ],
             [
              0.4444444444444444,
              "#bd3786"
             ],
             [
              0.5555555555555556,
              "#d8576b"
             ],
             [
              0.6666666666666666,
              "#ed7953"
             ],
             [
              0.7777777777777778,
              "#fb9f3a"
             ],
             [
              0.8888888888888888,
              "#fdca26"
             ],
             [
              1,
              "#f0f921"
             ]
            ],
            "type": "heatmap"
           }
          ],
          "heatmapgl": [
           {
            "colorbar": {
             "outlinewidth": 0,
             "ticks": ""
            },
            "colorscale": [
             [
              0,
              "#0d0887"
             ],
             [
              0.1111111111111111,
              "#46039f"
             ],
             [
              0.2222222222222222,
              "#7201a8"
             ],
             [
              0.3333333333333333,
              "#9c179e"
             ],
             [
              0.4444444444444444,
              "#bd3786"
             ],
             [
              0.5555555555555556,
              "#d8576b"
             ],
             [
              0.6666666666666666,
              "#ed7953"
             ],
             [
              0.7777777777777778,
              "#fb9f3a"
             ],
             [
              0.8888888888888888,
              "#fdca26"
             ],
             [
              1,
              "#f0f921"
             ]
            ],
            "type": "heatmapgl"
           }
          ],
          "histogram": [
           {
            "marker": {
             "pattern": {
              "fillmode": "overlay",
              "size": 10,
              "solidity": 0.2
             }
            },
            "type": "histogram"
           }
          ],
          "histogram2d": [
           {
            "colorbar": {
             "outlinewidth": 0,
             "ticks": ""
            },
            "colorscale": [
             [
              0,
              "#0d0887"
             ],
             [
              0.1111111111111111,
              "#46039f"
             ],
             [
              0.2222222222222222,
              "#7201a8"
             ],
             [
              0.3333333333333333,
              "#9c179e"
             ],
             [
              0.4444444444444444,
              "#bd3786"
             ],
             [
              0.5555555555555556,
              "#d8576b"
             ],
             [
              0.6666666666666666,
              "#ed7953"
             ],
             [
              0.7777777777777778,
              "#fb9f3a"
             ],
             [
              0.8888888888888888,
              "#fdca26"
             ],
             [
              1,
              "#f0f921"
             ]
            ],
            "type": "histogram2d"
           }
          ],
          "histogram2dcontour": [
           {
            "colorbar": {
             "outlinewidth": 0,
             "ticks": ""
            },
            "colorscale": [
             [
              0,
              "#0d0887"
             ],
             [
              0.1111111111111111,
              "#46039f"
             ],
             [
              0.2222222222222222,
              "#7201a8"
             ],
             [
              0.3333333333333333,
              "#9c179e"
             ],
             [
              0.4444444444444444,
              "#bd3786"
             ],
             [
              0.5555555555555556,
              "#d8576b"
             ],
             [
              0.6666666666666666,
              "#ed7953"
             ],
             [
              0.7777777777777778,
              "#fb9f3a"
             ],
             [
              0.8888888888888888,
              "#fdca26"
             ],
             [
              1,
              "#f0f921"
             ]
            ],
            "type": "histogram2dcontour"
           }
          ],
          "mesh3d": [
           {
            "colorbar": {
             "outlinewidth": 0,
             "ticks": ""
            },
            "type": "mesh3d"
           }
          ],
          "parcoords": [
           {
            "line": {
             "colorbar": {
              "outlinewidth": 0,
              "ticks": ""
             }
            },
            "type": "parcoords"
           }
          ],
          "pie": [
           {
            "automargin": true,
            "type": "pie"
           }
          ],
          "scatter": [
           {
            "fillpattern": {
             "fillmode": "overlay",
             "size": 10,
             "solidity": 0.2
            },
            "type": "scatter"
           }
          ],
          "scatter3d": [
           {
            "line": {
             "colorbar": {
              "outlinewidth": 0,
              "ticks": ""
             }
            },
            "marker": {
             "colorbar": {
              "outlinewidth": 0,
              "ticks": ""
             }
            },
            "type": "scatter3d"
           }
          ],
          "scattercarpet": [
           {
            "marker": {
             "colorbar": {
              "outlinewidth": 0,
              "ticks": ""
             }
            },
            "type": "scattercarpet"
           }
          ],
          "scattergeo": [
           {
            "marker": {
             "colorbar": {
              "outlinewidth": 0,
              "ticks": ""
             }
            },
            "type": "scattergeo"
           }
          ],
          "scattergl": [
           {
            "marker": {
             "colorbar": {
              "outlinewidth": 0,
              "ticks": ""
             }
            },
            "type": "scattergl"
           }
          ],
          "scattermapbox": [
           {
            "marker": {
             "colorbar": {
              "outlinewidth": 0,
              "ticks": ""
             }
            },
            "type": "scattermapbox"
           }
          ],
          "scatterpolar": [
           {
            "marker": {
             "colorbar": {
              "outlinewidth": 0,
              "ticks": ""
             }
            },
            "type": "scatterpolar"
           }
          ],
          "scatterpolargl": [
           {
            "marker": {
             "colorbar": {
              "outlinewidth": 0,
              "ticks": ""
             }
            },
            "type": "scatterpolargl"
           }
          ],
          "scatterternary": [
           {
            "marker": {
             "colorbar": {
              "outlinewidth": 0,
              "ticks": ""
             }
            },
            "type": "scatterternary"
           }
          ],
          "surface": [
           {
            "colorbar": {
             "outlinewidth": 0,
             "ticks": ""
            },
            "colorscale": [
             [
              0,
              "#0d0887"
             ],
             [
              0.1111111111111111,
              "#46039f"
             ],
             [
              0.2222222222222222,
              "#7201a8"
             ],
             [
              0.3333333333333333,
              "#9c179e"
             ],
             [
              0.4444444444444444,
              "#bd3786"
             ],
             [
              0.5555555555555556,
              "#d8576b"
             ],
             [
              0.6666666666666666,
              "#ed7953"
             ],
             [
              0.7777777777777778,
              "#fb9f3a"
             ],
             [
              0.8888888888888888,
              "#fdca26"
             ],
             [
              1,
              "#f0f921"
             ]
            ],
            "type": "surface"
           }
          ],
          "table": [
           {
            "cells": {
             "fill": {
              "color": "#EBF0F8"
             },
             "line": {
              "color": "white"
             }
            },
            "header": {
             "fill": {
              "color": "#C8D4E3"
             },
             "line": {
              "color": "white"
             }
            },
            "type": "table"
           }
          ]
         },
         "layout": {
          "annotationdefaults": {
           "arrowcolor": "#2a3f5f",
           "arrowhead": 0,
           "arrowwidth": 1
          },
          "autotypenumbers": "strict",
          "coloraxis": {
           "colorbar": {
            "outlinewidth": 0,
            "ticks": ""
           }
          },
          "colorscale": {
           "diverging": [
            [
             0,
             "#8e0152"
            ],
            [
             0.1,
             "#c51b7d"
            ],
            [
             0.2,
             "#de77ae"
            ],
            [
             0.3,
             "#f1b6da"
            ],
            [
             0.4,
             "#fde0ef"
            ],
            [
             0.5,
             "#f7f7f7"
            ],
            [
             0.6,
             "#e6f5d0"
            ],
            [
             0.7,
             "#b8e186"
            ],
            [
             0.8,
             "#7fbc41"
            ],
            [
             0.9,
             "#4d9221"
            ],
            [
             1,
             "#276419"
            ]
           ],
           "sequential": [
            [
             0,
             "#0d0887"
            ],
            [
             0.1111111111111111,
             "#46039f"
            ],
            [
             0.2222222222222222,
             "#7201a8"
            ],
            [
             0.3333333333333333,
             "#9c179e"
            ],
            [
             0.4444444444444444,
             "#bd3786"
            ],
            [
             0.5555555555555556,
             "#d8576b"
            ],
            [
             0.6666666666666666,
             "#ed7953"
            ],
            [
             0.7777777777777778,
             "#fb9f3a"
            ],
            [
             0.8888888888888888,
             "#fdca26"
            ],
            [
             1,
             "#f0f921"
            ]
           ],
           "sequentialminus": [
            [
             0,
             "#0d0887"
            ],
            [
             0.1111111111111111,
             "#46039f"
            ],
            [
             0.2222222222222222,
             "#7201a8"
            ],
            [
             0.3333333333333333,
             "#9c179e"
            ],
            [
             0.4444444444444444,
             "#bd3786"
            ],
            [
             0.5555555555555556,
             "#d8576b"
            ],
            [
             0.6666666666666666,
             "#ed7953"
            ],
            [
             0.7777777777777778,
             "#fb9f3a"
            ],
            [
             0.8888888888888888,
             "#fdca26"
            ],
            [
             1,
             "#f0f921"
            ]
           ]
          },
          "colorway": [
           "#636efa",
           "#EF553B",
           "#00cc96",
           "#ab63fa",
           "#FFA15A",
           "#19d3f3",
           "#FF6692",
           "#B6E880",
           "#FF97FF",
           "#FECB52"
          ],
          "font": {
           "color": "#2a3f5f"
          },
          "geo": {
           "bgcolor": "white",
           "lakecolor": "white",
           "landcolor": "#E5ECF6",
           "showlakes": true,
           "showland": true,
           "subunitcolor": "white"
          },
          "hoverlabel": {
           "align": "left"
          },
          "hovermode": "closest",
          "mapbox": {
           "style": "light"
          },
          "paper_bgcolor": "white",
          "plot_bgcolor": "#E5ECF6",
          "polar": {
           "angularaxis": {
            "gridcolor": "white",
            "linecolor": "white",
            "ticks": ""
           },
           "bgcolor": "#E5ECF6",
           "radialaxis": {
            "gridcolor": "white",
            "linecolor": "white",
            "ticks": ""
           }
          },
          "scene": {
           "xaxis": {
            "backgroundcolor": "#E5ECF6",
            "gridcolor": "white",
            "gridwidth": 2,
            "linecolor": "white",
            "showbackground": true,
            "ticks": "",
            "zerolinecolor": "white"
           },
           "yaxis": {
            "backgroundcolor": "#E5ECF6",
            "gridcolor": "white",
            "gridwidth": 2,
            "linecolor": "white",
            "showbackground": true,
            "ticks": "",
            "zerolinecolor": "white"
           },
           "zaxis": {
            "backgroundcolor": "#E5ECF6",
            "gridcolor": "white",
            "gridwidth": 2,
            "linecolor": "white",
            "showbackground": true,
            "ticks": "",
            "zerolinecolor": "white"
           }
          },
          "shapedefaults": {
           "line": {
            "color": "#2a3f5f"
           }
          },
          "ternary": {
           "aaxis": {
            "gridcolor": "white",
            "linecolor": "white",
            "ticks": ""
           },
           "baxis": {
            "gridcolor": "white",
            "linecolor": "white",
            "ticks": ""
           },
           "bgcolor": "#E5ECF6",
           "caxis": {
            "gridcolor": "white",
            "linecolor": "white",
            "ticks": ""
           }
          },
          "title": {
           "x": 0.05
          },
          "xaxis": {
           "automargin": true,
           "gridcolor": "white",
           "linecolor": "white",
           "ticks": "",
           "title": {
            "standoff": 15
           },
           "zerolinecolor": "white",
           "zerolinewidth": 2
          },
          "yaxis": {
           "automargin": true,
           "gridcolor": "white",
           "linecolor": "white",
           "ticks": "",
           "title": {
            "standoff": 15
           },
           "zerolinecolor": "white",
           "zerolinewidth": 2
          }
         }
        },
        "title": {
         "text": "Percent difference in read counts (positive values correspond to bwa yielding more reads than minimap2)"
        },
        "xaxis": {
         "anchor": "y",
         "domain": [
          0,
          1
         ],
         "title": {
          "text": "sample_name"
         }
        },
        "yaxis": {
         "anchor": "x",
         "domain": [
          0,
          1
         ],
         "title": {
          "text": "percent_difference"
         }
        }
       }
      },
      "text/html": [
       "<div>                            <div id=\"46ff999c-8d35-47a4-863f-4027ae27a908\" class=\"plotly-graph-div\" style=\"height:525px; width:100%;\"></div>            <script type=\"text/javascript\">                require([\"plotly\"], function(Plotly) {                    window.PLOTLYENV=window.PLOTLYENV || {};                                    if (document.getElementById(\"46ff999c-8d35-47a4-863f-4027ae27a908\")) {                    Plotly.newPlot(                        \"46ff999c-8d35-47a4-863f-4027ae27a908\",                        [{\"alignmentgroup\":\"True\",\"hovertemplate\":\"sample_name=%{x}<br>percent_difference=%{y}<extra></extra>\",\"legendgroup\":\"\",\"marker\":{\"color\":\"#636efa\",\"pattern\":{\"shape\":\"\"}},\"name\":\"\",\"offsetgroup\":\"\",\"orientation\":\"v\",\"showlegend\":false,\"textposition\":\"auto\",\"x\":[\"wb-Mixture01\",\"wb-Mixture02\",\"wb-Mixture03\",\"wb-Mixture04\",\"wb-Mixture05\",\"wb-Mixture06\",\"wb-Mixture07\",\"wb-Mixture08\",\"wb-Mixture09\",\"wb-Mixture10\",\"wb-Mixture11\",\"wb-Mixture12\",\"wb-Mixture13\",\"wb-Mixture14\",\"wb-Mixture15\",\"wb-Mixture16\",\"wb-Mixture17\",\"wb-Mixture18\",\"wb-Mixture19\",\"wb-Mixture20\",\"wb-Mixture21\",\"wb-Mixture22\",\"wb-Mixture23\",\"wb-Mixture24\",\"wb-Mixture25\",\"wb-Mixture26\",\"wb-Mixture27\",\"wb-Mixture28\",\"wb-Mixture29\",\"wb-Mixture30\",\"wb-Mixture31\",\"wb-Mixture32\",\"wb-Mixture33\",\"wb-Mixture34\",\"wb-Mixture35\",\"wb-Mixture36\",\"wb-Mixture37\",\"wb-Mixture38\",\"wb-Mixture39\",\"wb-Mixture40\",\"wb-Mixture41\",\"wb-Mixture42\",\"nwrb-Mixture01\",\"nwrb-Mixture02\",\"nwrb-Mixture03\",\"nwrb-Mixture04\",\"nwrb-Mixture05\",\"nwrb-Mixture06\",\"nwrb-Mixture07\",\"nwrb-Mixture08\",\"nwrb-Mixture09\",\"nwrb-Mixture10\",\"nwrb-Mixture11\",\"nwrb-Mixture12\",\"nwrb-Mixture13\",\"nwrb-Mixture14\",\"nwrb-Mixture15\",\"nwrb-Mixture16\",\"nwrb-Mixture17\",\"nwrb-Mixture18\",\"nwrb-Mixture19\",\"nwrb-Mixture20\",\"nwrb-Mixture21\",\"nwrb-Mixture22\",\"nwrb-Mixture23\",\"nwrb-Mixture24\",\"nwrb-Mixture25\",\"nwrb-Mixture26\",\"nwrb-Mixture27\",\"nwrb-Mixture28\",\"nwrb-Mixture29\",\"nwrb-Mixture30\",\"nwrb-Mixture31\",\"nwrb-Mixture32\",\"nwrb-Mixture33\",\"nwrb-Mixture34\",\"nwrb-Mixture35\",\"nwrb-Mixture36\",\"nwrb-Mixture37\",\"nwrb-Mixture38\",\"nwrb-Mixture39\",\"nwrb-Mixture40\",\"nwrb-Mixture41\",\"nwrb-Mixture42\",\"pwrb-Mixture01\",\"pwrb-Mixture02\",\"pwrb-Mixture03\",\"pwrb-Mixture04\",\"pwrb-Mixture05\",\"pwrb-Mixture06\",\"pwrb-Mixture07\",\"pwrb-Mixture08\",\"pwrb-Mixture09\",\"pwrb-Mixture10\",\"pwrb-Mixture11\",\"pwrb-Mixture12\",\"pwrb-Mixture13\",\"pwrb-Mixture14\",\"pwrb-Mixture15\",\"pwrb-Mixture16\",\"pwrb-Mixture17\",\"pwrb-Mixture18\",\"pwrb-Mixture19\",\"pwrb-Mixture20\",\"pwrb-Mixture21\",\"pwrb-Mixture22\",\"pwrb-Mixture23\",\"pwrb-Mixture24\",\"pwrb-Mixture25\",\"pwrb-Mixture26\",\"pwrb-Mixture27\",\"pwrb-Mixture28\",\"pwrb-Mixture29\",\"pwrb-Mixture30\",\"pwrb-Mixture31\",\"pwrb-Mixture32\",\"pwrb-Mixture33\",\"pwrb-Mixture34\",\"pwrb-Mixture35\",\"pwrb-Mixture36\",\"pwrb-Mixture37\",\"pwrb-Mixture38\",\"pwrb-Mixture39\",\"pwrb-Mixture40\",\"pwrb-Mixture41\",\"pwrb-Mixture42\"],\"xaxis\":\"x\",\"y\":[0.04588056390524008,0.027295210215515068,0.12191200257263124,0.3773709424374323,0.3990539077846437,0.08008994531276713,0.019441202587469012,0.052263281130278776,0.009963145502142534,0.09195087792566885,0.42189356995177907,0.3729611166500499,0.3629505323967507,0.009010216198982538,0.01855043032116653,0.04579106886488819,0.012645065432568495,0.21229530372232921,14.27564633588447,0.5169886611532974,1.7224783423679013,0.07253315113839758,7.601026298909558,0.032682261971674176,0.7569684615560798,0.033539274264309804,0.2500095260239309,0.12097290968857052,0.0804305041187404,0.04110865797950946,0.3230419274417406,0.04241380572148379,0.019180693759880962,0.18480259824589196,1.4066209371273535,0.02459905477647788,0.0145225116301693,0.02054089400290976,0.03628533561380137,0.05676938335420639,0.195519160877766,0.2844570935290799,0.04384690562349772,0.014248865571087226,0.05361546985023412,0.05574522228801068,0.026764548443832685,0.05537209547051248,0.02528915692273109,0.05469752001983121,0.009028398682436269,0.07697317780804074,0.06937844135115517,0.023354491683342592,0.02911197688293391,0.009721056832368048,0.013432151830723282,0.015515622939331328,0.010632307250052177,0.013917123529382527,0.04063388866314506,0.2854077687589822,0.010970250053137148,0.0857848775062309,0.3014982367954488,0.033121153840801366,0.014295332343419996,0.012279045399723857,0.016511788649105293,0.0686252929523119,0.043895794825890774,0.04292994056712124,0.017442927963767674,0.048066615487824274,0.24772427894540236,0.01131436743634537,0.012464013959695633,0.016865819627725365,0.058422920806372174,0.009953318934198608,0.07709109597841449,0.06085868154833672,0.015925231040265952,0.02347441798752794,0.3372221409282588,0.02906722615613253,0.08098888104332735,0.10046040665074446,0.07525398218989088,0.09346222891545018,0.021635685760508314,0.5319764760826438,0.012019303000618993,0.11449507671170141,0.10781494058232015,0.04915463756971685,0.43881183985502603,0.015920704619572193,0.023961422110402253,0.021532157277980152,0.012417972393467593,0.008997684419450877,0.06916048873412038,0.09039843108500717,0.009959441034957637,0.08649186206123764,0.061585835257890686,0.05051420374576317,0.0272234453045475,0.022659643602284778,0.02124308096820352,0.09121006312544558,0.08303386085132028,0.07252362918539658,0.05119034775003501,0.05739795918367348,0.012097546550350996,0.009375169616555563,0.012300581482033697,0.2854542104496041,0.010920991907897287,0.07332146223944694,0.05032422877053218,0.08119092995216055,0.029655717382855308,0.2974031087415713],\"yaxis\":\"y\",\"type\":\"bar\"}],                        {\"template\":{\"data\":{\"histogram2dcontour\":[{\"type\":\"histogram2dcontour\",\"colorbar\":{\"outlinewidth\":0,\"ticks\":\"\"},\"colorscale\":[[0.0,\"#0d0887\"],[0.1111111111111111,\"#46039f\"],[0.2222222222222222,\"#7201a8\"],[0.3333333333333333,\"#9c179e\"],[0.4444444444444444,\"#bd3786\"],[0.5555555555555556,\"#d8576b\"],[0.6666666666666666,\"#ed7953\"],[0.7777777777777778,\"#fb9f3a\"],[0.8888888888888888,\"#fdca26\"],[1.0,\"#f0f921\"]]}],\"choropleth\":[{\"type\":\"choropleth\",\"colorbar\":{\"outlinewidth\":0,\"ticks\":\"\"}}],\"histogram2d\":[{\"type\":\"histogram2d\",\"colorbar\":{\"outlinewidth\":0,\"ticks\":\"\"},\"colorscale\":[[0.0,\"#0d0887\"],[0.1111111111111111,\"#46039f\"],[0.2222222222222222,\"#7201a8\"],[0.3333333333333333,\"#9c179e\"],[0.4444444444444444,\"#bd3786\"],[0.5555555555555556,\"#d8576b\"],[0.6666666666666666,\"#ed7953\"],[0.7777777777777778,\"#fb9f3a\"],[0.8888888888888888,\"#fdca26\"],[1.0,\"#f0f921\"]]}],\"heatmap\":[{\"type\":\"heatmap\",\"colorbar\":{\"outlinewidth\":0,\"ticks\":\"\"},\"colorscale\":[[0.0,\"#0d0887\"],[0.1111111111111111,\"#46039f\"],[0.2222222222222222,\"#7201a8\"],[0.3333333333333333,\"#9c179e\"],[0.4444444444444444,\"#bd3786\"],[0.5555555555555556,\"#d8576b\"],[0.6666666666666666,\"#ed7953\"],[0.7777777777777778,\"#fb9f3a\"],[0.8888888888888888,\"#fdca26\"],[1.0,\"#f0f921\"]]}],\"heatmapgl\":[{\"type\":\"heatmapgl\",\"colorbar\":{\"outlinewidth\":0,\"ticks\":\"\"},\"colorscale\":[[0.0,\"#0d0887\"],[0.1111111111111111,\"#46039f\"],[0.2222222222222222,\"#7201a8\"],[0.3333333333333333,\"#9c179e\"],[0.4444444444444444,\"#bd3786\"],[0.5555555555555556,\"#d8576b\"],[0.6666666666666666,\"#ed7953\"],[0.7777777777777778,\"#fb9f3a\"],[0.8888888888888888,\"#fdca26\"],[1.0,\"#f0f921\"]]}],\"contourcarpet\":[{\"type\":\"contourcarpet\",\"colorbar\":{\"outlinewidth\":0,\"ticks\":\"\"}}],\"contour\":[{\"type\":\"contour\",\"colorbar\":{\"outlinewidth\":0,\"ticks\":\"\"},\"colorscale\":[[0.0,\"#0d0887\"],[0.1111111111111111,\"#46039f\"],[0.2222222222222222,\"#7201a8\"],[0.3333333333333333,\"#9c179e\"],[0.4444444444444444,\"#bd3786\"],[0.5555555555555556,\"#d8576b\"],[0.6666666666666666,\"#ed7953\"],[0.7777777777777778,\"#fb9f3a\"],[0.8888888888888888,\"#fdca26\"],[1.0,\"#f0f921\"]]}],\"surface\":[{\"type\":\"surface\",\"colorbar\":{\"outlinewidth\":0,\"ticks\":\"\"},\"colorscale\":[[0.0,\"#0d0887\"],[0.1111111111111111,\"#46039f\"],[0.2222222222222222,\"#7201a8\"],[0.3333333333333333,\"#9c179e\"],[0.4444444444444444,\"#bd3786\"],[0.5555555555555556,\"#d8576b\"],[0.6666666666666666,\"#ed7953\"],[0.7777777777777778,\"#fb9f3a\"],[0.8888888888888888,\"#fdca26\"],[1.0,\"#f0f921\"]]}],\"mesh3d\":[{\"type\":\"mesh3d\",\"colorbar\":{\"outlinewidth\":0,\"ticks\":\"\"}}],\"scatter\":[{\"fillpattern\":{\"fillmode\":\"overlay\",\"size\":10,\"solidity\":0.2},\"type\":\"scatter\"}],\"parcoords\":[{\"type\":\"parcoords\",\"line\":{\"colorbar\":{\"outlinewidth\":0,\"ticks\":\"\"}}}],\"scatterpolargl\":[{\"type\":\"scatterpolargl\",\"marker\":{\"colorbar\":{\"outlinewidth\":0,\"ticks\":\"\"}}}],\"bar\":[{\"error_x\":{\"color\":\"#2a3f5f\"},\"error_y\":{\"color\":\"#2a3f5f\"},\"marker\":{\"line\":{\"color\":\"#E5ECF6\",\"width\":0.5},\"pattern\":{\"fillmode\":\"overlay\",\"size\":10,\"solidity\":0.2}},\"type\":\"bar\"}],\"scattergeo\":[{\"type\":\"scattergeo\",\"marker\":{\"colorbar\":{\"outlinewidth\":0,\"ticks\":\"\"}}}],\"scatterpolar\":[{\"type\":\"scatterpolar\",\"marker\":{\"colorbar\":{\"outlinewidth\":0,\"ticks\":\"\"}}}],\"histogram\":[{\"marker\":{\"pattern\":{\"fillmode\":\"overlay\",\"size\":10,\"solidity\":0.2}},\"type\":\"histogram\"}],\"scattergl\":[{\"type\":\"scattergl\",\"marker\":{\"colorbar\":{\"outlinewidth\":0,\"ticks\":\"\"}}}],\"scatter3d\":[{\"type\":\"scatter3d\",\"line\":{\"colorbar\":{\"outlinewidth\":0,\"ticks\":\"\"}},\"marker\":{\"colorbar\":{\"outlinewidth\":0,\"ticks\":\"\"}}}],\"scattermapbox\":[{\"type\":\"scattermapbox\",\"marker\":{\"colorbar\":{\"outlinewidth\":0,\"ticks\":\"\"}}}],\"scatterternary\":[{\"type\":\"scatterternary\",\"marker\":{\"colorbar\":{\"outlinewidth\":0,\"ticks\":\"\"}}}],\"scattercarpet\":[{\"type\":\"scattercarpet\",\"marker\":{\"colorbar\":{\"outlinewidth\":0,\"ticks\":\"\"}}}],\"carpet\":[{\"aaxis\":{\"endlinecolor\":\"#2a3f5f\",\"gridcolor\":\"white\",\"linecolor\":\"white\",\"minorgridcolor\":\"white\",\"startlinecolor\":\"#2a3f5f\"},\"baxis\":{\"endlinecolor\":\"#2a3f5f\",\"gridcolor\":\"white\",\"linecolor\":\"white\",\"minorgridcolor\":\"white\",\"startlinecolor\":\"#2a3f5f\"},\"type\":\"carpet\"}],\"table\":[{\"cells\":{\"fill\":{\"color\":\"#EBF0F8\"},\"line\":{\"color\":\"white\"}},\"header\":{\"fill\":{\"color\":\"#C8D4E3\"},\"line\":{\"color\":\"white\"}},\"type\":\"table\"}],\"barpolar\":[{\"marker\":{\"line\":{\"color\":\"#E5ECF6\",\"width\":0.5},\"pattern\":{\"fillmode\":\"overlay\",\"size\":10,\"solidity\":0.2}},\"type\":\"barpolar\"}],\"pie\":[{\"automargin\":true,\"type\":\"pie\"}]},\"layout\":{\"autotypenumbers\":\"strict\",\"colorway\":[\"#636efa\",\"#EF553B\",\"#00cc96\",\"#ab63fa\",\"#FFA15A\",\"#19d3f3\",\"#FF6692\",\"#B6E880\",\"#FF97FF\",\"#FECB52\"],\"font\":{\"color\":\"#2a3f5f\"},\"hovermode\":\"closest\",\"hoverlabel\":{\"align\":\"left\"},\"paper_bgcolor\":\"white\",\"plot_bgcolor\":\"#E5ECF6\",\"polar\":{\"bgcolor\":\"#E5ECF6\",\"angularaxis\":{\"gridcolor\":\"white\",\"linecolor\":\"white\",\"ticks\":\"\"},\"radialaxis\":{\"gridcolor\":\"white\",\"linecolor\":\"white\",\"ticks\":\"\"}},\"ternary\":{\"bgcolor\":\"#E5ECF6\",\"aaxis\":{\"gridcolor\":\"white\",\"linecolor\":\"white\",\"ticks\":\"\"},\"baxis\":{\"gridcolor\":\"white\",\"linecolor\":\"white\",\"ticks\":\"\"},\"caxis\":{\"gridcolor\":\"white\",\"linecolor\":\"white\",\"ticks\":\"\"}},\"coloraxis\":{\"colorbar\":{\"outlinewidth\":0,\"ticks\":\"\"}},\"colorscale\":{\"sequential\":[[0.0,\"#0d0887\"],[0.1111111111111111,\"#46039f\"],[0.2222222222222222,\"#7201a8\"],[0.3333333333333333,\"#9c179e\"],[0.4444444444444444,\"#bd3786\"],[0.5555555555555556,\"#d8576b\"],[0.6666666666666666,\"#ed7953\"],[0.7777777777777778,\"#fb9f3a\"],[0.8888888888888888,\"#fdca26\"],[1.0,\"#f0f921\"]],\"sequentialminus\":[[0.0,\"#0d0887\"],[0.1111111111111111,\"#46039f\"],[0.2222222222222222,\"#7201a8\"],[0.3333333333333333,\"#9c179e\"],[0.4444444444444444,\"#bd3786\"],[0.5555555555555556,\"#d8576b\"],[0.6666666666666666,\"#ed7953\"],[0.7777777777777778,\"#fb9f3a\"],[0.8888888888888888,\"#fdca26\"],[1.0,\"#f0f921\"]],\"diverging\":[[0,\"#8e0152\"],[0.1,\"#c51b7d\"],[0.2,\"#de77ae\"],[0.3,\"#f1b6da\"],[0.4,\"#fde0ef\"],[0.5,\"#f7f7f7\"],[0.6,\"#e6f5d0\"],[0.7,\"#b8e186\"],[0.8,\"#7fbc41\"],[0.9,\"#4d9221\"],[1,\"#276419\"]]},\"xaxis\":{\"gridcolor\":\"white\",\"linecolor\":\"white\",\"ticks\":\"\",\"title\":{\"standoff\":15},\"zerolinecolor\":\"white\",\"automargin\":true,\"zerolinewidth\":2},\"yaxis\":{\"gridcolor\":\"white\",\"linecolor\":\"white\",\"ticks\":\"\",\"title\":{\"standoff\":15},\"zerolinecolor\":\"white\",\"automargin\":true,\"zerolinewidth\":2},\"scene\":{\"xaxis\":{\"backgroundcolor\":\"#E5ECF6\",\"gridcolor\":\"white\",\"linecolor\":\"white\",\"showbackground\":true,\"ticks\":\"\",\"zerolinecolor\":\"white\",\"gridwidth\":2},\"yaxis\":{\"backgroundcolor\":\"#E5ECF6\",\"gridcolor\":\"white\",\"linecolor\":\"white\",\"showbackground\":true,\"ticks\":\"\",\"zerolinecolor\":\"white\",\"gridwidth\":2},\"zaxis\":{\"backgroundcolor\":\"#E5ECF6\",\"gridcolor\":\"white\",\"linecolor\":\"white\",\"showbackground\":true,\"ticks\":\"\",\"zerolinecolor\":\"white\",\"gridwidth\":2}},\"shapedefaults\":{\"line\":{\"color\":\"#2a3f5f\"}},\"annotationdefaults\":{\"arrowcolor\":\"#2a3f5f\",\"arrowhead\":0,\"arrowwidth\":1},\"geo\":{\"bgcolor\":\"white\",\"landcolor\":\"#E5ECF6\",\"subunitcolor\":\"white\",\"showland\":true,\"showlakes\":true,\"lakecolor\":\"white\"},\"title\":{\"x\":0.05},\"mapbox\":{\"style\":\"light\"}}},\"xaxis\":{\"anchor\":\"y\",\"domain\":[0.0,1.0],\"title\":{\"text\":\"sample_name\"}},\"yaxis\":{\"anchor\":\"x\",\"domain\":[0.0,1.0],\"title\":{\"text\":\"percent_difference\"}},\"legend\":{\"tracegroupgap\":0},\"title\":{\"text\":\"Percent difference in read counts (positive values correspond to bwa yielding more reads than minimap2)\"},\"barmode\":\"relative\"},                        {\"responsive\": true}                    ).then(function(){\n",
       "                            \n",
       "var gd = document.getElementById('46ff999c-8d35-47a4-863f-4027ae27a908');\n",
       "var x = new MutationObserver(function (mutations, observer) {{\n",
       "        var display = window.getComputedStyle(gd).display;\n",
       "        if (!display || display === 'none') {{\n",
       "            console.log([gd, 'removed!']);\n",
       "            Plotly.purge(gd);\n",
       "            observer.disconnect();\n",
       "        }}\n",
       "}});\n",
       "\n",
       "// Listen for the removal of the full notebook cells\n",
       "var notebookContainer = gd.closest('#notebook-container');\n",
       "if (notebookContainer) {{\n",
       "    x.observe(notebookContainer, {childList: true});\n",
       "}}\n",
       "\n",
       "// Listen for the clearing of the current output cell\n",
       "var outputEl = gd.closest('.output');\n",
       "if (outputEl) {{\n",
       "    x.observe(outputEl, {childList: true});\n",
       "}}\n",
       "\n",
       "                        })                };                });            </script>        </div>"
      ]
     },
     "metadata": {},
     "output_type": "display_data"
    }
   ],
   "source": [
    "px.bar(wide_df, x=\"sample_name\", y=\"percent_difference\", title=\"Percent difference in read counts (positive values correspond to bwa yielding more reads than minimap2)\")"
   ]
  },
  {
   "cell_type": "code",
   "execution_count": 38,
   "metadata": {},
   "outputs": [
    {
     "data": {
      "application/vnd.plotly.v1+json": {
       "config": {
        "plotlyServerURL": "https://plot.ly"
       },
       "data": [
        {
         "alignmentgroup": "True",
         "hovertemplate": "percent_difference=%{y}<extra></extra>",
         "legendgroup": "",
         "marker": {
          "color": "#636efa"
         },
         "name": "",
         "notched": false,
         "offsetgroup": "",
         "orientation": "v",
         "showlegend": false,
         "type": "box",
         "x0": " ",
         "xaxis": "x",
         "y": [
          0.04588056390524008,
          0.027295210215515068,
          0.12191200257263124,
          0.3773709424374323,
          0.3990539077846437,
          0.08008994531276713,
          0.019441202587469012,
          0.052263281130278776,
          0.009963145502142534,
          0.09195087792566885,
          0.42189356995177907,
          0.3729611166500499,
          0.3629505323967507,
          0.009010216198982538,
          0.01855043032116653,
          0.04579106886488819,
          0.012645065432568495,
          0.21229530372232921,
          14.27564633588447,
          0.5169886611532974,
          1.7224783423679013,
          0.07253315113839758,
          7.601026298909558,
          0.032682261971674176,
          0.7569684615560798,
          0.033539274264309804,
          0.2500095260239309,
          0.12097290968857052,
          0.0804305041187404,
          0.04110865797950946,
          0.3230419274417406,
          0.04241380572148379,
          0.019180693759880962,
          0.18480259824589196,
          1.4066209371273535,
          0.02459905477647788,
          0.0145225116301693,
          0.02054089400290976,
          0.03628533561380137,
          0.05676938335420639,
          0.195519160877766,
          0.2844570935290799,
          0.04384690562349772,
          0.014248865571087226,
          0.05361546985023412,
          0.05574522228801068,
          0.026764548443832685,
          0.05537209547051248,
          0.02528915692273109,
          0.05469752001983121,
          0.009028398682436269,
          0.07697317780804074,
          0.06937844135115517,
          0.023354491683342592,
          0.02911197688293391,
          0.009721056832368048,
          0.013432151830723282,
          0.015515622939331328,
          0.010632307250052177,
          0.013917123529382527,
          0.04063388866314506,
          0.2854077687589822,
          0.010970250053137148,
          0.0857848775062309,
          0.3014982367954488,
          0.033121153840801366,
          0.014295332343419996,
          0.012279045399723857,
          0.016511788649105293,
          0.0686252929523119,
          0.043895794825890774,
          0.04292994056712124,
          0.017442927963767674,
          0.048066615487824274,
          0.24772427894540236,
          0.01131436743634537,
          0.012464013959695633,
          0.016865819627725365,
          0.058422920806372174,
          0.009953318934198608,
          0.07709109597841449,
          0.06085868154833672,
          0.015925231040265952,
          0.02347441798752794,
          0.3372221409282588,
          0.02906722615613253,
          0.08098888104332735,
          0.10046040665074446,
          0.07525398218989088,
          0.09346222891545018,
          0.021635685760508314,
          0.5319764760826438,
          0.012019303000618993,
          0.11449507671170141,
          0.10781494058232015,
          0.04915463756971685,
          0.43881183985502603,
          0.015920704619572193,
          0.023961422110402253,
          0.021532157277980152,
          0.012417972393467593,
          0.008997684419450877,
          0.06916048873412038,
          0.09039843108500717,
          0.009959441034957637,
          0.08649186206123764,
          0.061585835257890686,
          0.05051420374576317,
          0.0272234453045475,
          0.022659643602284778,
          0.02124308096820352,
          0.09121006312544558,
          0.08303386085132028,
          0.07252362918539658,
          0.05119034775003501,
          0.05739795918367348,
          0.012097546550350996,
          0.009375169616555563,
          0.012300581482033697,
          0.2854542104496041,
          0.010920991907897287,
          0.07332146223944694,
          0.05032422877053218,
          0.08119092995216055,
          0.029655717382855308,
          0.2974031087415713
         ],
         "y0": " ",
         "yaxis": "y"
        }
       ],
       "layout": {
        "boxmode": "group",
        "legend": {
         "tracegroupgap": 0
        },
        "template": {
         "data": {
          "bar": [
           {
            "error_x": {
             "color": "#2a3f5f"
            },
            "error_y": {
             "color": "#2a3f5f"
            },
            "marker": {
             "line": {
              "color": "#E5ECF6",
              "width": 0.5
             },
             "pattern": {
              "fillmode": "overlay",
              "size": 10,
              "solidity": 0.2
             }
            },
            "type": "bar"
           }
          ],
          "barpolar": [
           {
            "marker": {
             "line": {
              "color": "#E5ECF6",
              "width": 0.5
             },
             "pattern": {
              "fillmode": "overlay",
              "size": 10,
              "solidity": 0.2
             }
            },
            "type": "barpolar"
           }
          ],
          "carpet": [
           {
            "aaxis": {
             "endlinecolor": "#2a3f5f",
             "gridcolor": "white",
             "linecolor": "white",
             "minorgridcolor": "white",
             "startlinecolor": "#2a3f5f"
            },
            "baxis": {
             "endlinecolor": "#2a3f5f",
             "gridcolor": "white",
             "linecolor": "white",
             "minorgridcolor": "white",
             "startlinecolor": "#2a3f5f"
            },
            "type": "carpet"
           }
          ],
          "choropleth": [
           {
            "colorbar": {
             "outlinewidth": 0,
             "ticks": ""
            },
            "type": "choropleth"
           }
          ],
          "contour": [
           {
            "colorbar": {
             "outlinewidth": 0,
             "ticks": ""
            },
            "colorscale": [
             [
              0,
              "#0d0887"
             ],
             [
              0.1111111111111111,
              "#46039f"
             ],
             [
              0.2222222222222222,
              "#7201a8"
             ],
             [
              0.3333333333333333,
              "#9c179e"
             ],
             [
              0.4444444444444444,
              "#bd3786"
             ],
             [
              0.5555555555555556,
              "#d8576b"
             ],
             [
              0.6666666666666666,
              "#ed7953"
             ],
             [
              0.7777777777777778,
              "#fb9f3a"
             ],
             [
              0.8888888888888888,
              "#fdca26"
             ],
             [
              1,
              "#f0f921"
             ]
            ],
            "type": "contour"
           }
          ],
          "contourcarpet": [
           {
            "colorbar": {
             "outlinewidth": 0,
             "ticks": ""
            },
            "type": "contourcarpet"
           }
          ],
          "heatmap": [
           {
            "colorbar": {
             "outlinewidth": 0,
             "ticks": ""
            },
            "colorscale": [
             [
              0,
              "#0d0887"
             ],
             [
              0.1111111111111111,
              "#46039f"
             ],
             [
              0.2222222222222222,
              "#7201a8"
             ],
             [
              0.3333333333333333,
              "#9c179e"
             ],
             [
              0.4444444444444444,
              "#bd3786"
             ],
             [
              0.5555555555555556,
              "#d8576b"
             ],
             [
              0.6666666666666666,
              "#ed7953"
             ],
             [
              0.7777777777777778,
              "#fb9f3a"
             ],
             [
              0.8888888888888888,
              "#fdca26"
             ],
             [
              1,
              "#f0f921"
             ]
            ],
            "type": "heatmap"
           }
          ],
          "heatmapgl": [
           {
            "colorbar": {
             "outlinewidth": 0,
             "ticks": ""
            },
            "colorscale": [
             [
              0,
              "#0d0887"
             ],
             [
              0.1111111111111111,
              "#46039f"
             ],
             [
              0.2222222222222222,
              "#7201a8"
             ],
             [
              0.3333333333333333,
              "#9c179e"
             ],
             [
              0.4444444444444444,
              "#bd3786"
             ],
             [
              0.5555555555555556,
              "#d8576b"
             ],
             [
              0.6666666666666666,
              "#ed7953"
             ],
             [
              0.7777777777777778,
              "#fb9f3a"
             ],
             [
              0.8888888888888888,
              "#fdca26"
             ],
             [
              1,
              "#f0f921"
             ]
            ],
            "type": "heatmapgl"
           }
          ],
          "histogram": [
           {
            "marker": {
             "pattern": {
              "fillmode": "overlay",
              "size": 10,
              "solidity": 0.2
             }
            },
            "type": "histogram"
           }
          ],
          "histogram2d": [
           {
            "colorbar": {
             "outlinewidth": 0,
             "ticks": ""
            },
            "colorscale": [
             [
              0,
              "#0d0887"
             ],
             [
              0.1111111111111111,
              "#46039f"
             ],
             [
              0.2222222222222222,
              "#7201a8"
             ],
             [
              0.3333333333333333,
              "#9c179e"
             ],
             [
              0.4444444444444444,
              "#bd3786"
             ],
             [
              0.5555555555555556,
              "#d8576b"
             ],
             [
              0.6666666666666666,
              "#ed7953"
             ],
             [
              0.7777777777777778,
              "#fb9f3a"
             ],
             [
              0.8888888888888888,
              "#fdca26"
             ],
             [
              1,
              "#f0f921"
             ]
            ],
            "type": "histogram2d"
           }
          ],
          "histogram2dcontour": [
           {
            "colorbar": {
             "outlinewidth": 0,
             "ticks": ""
            },
            "colorscale": [
             [
              0,
              "#0d0887"
             ],
             [
              0.1111111111111111,
              "#46039f"
             ],
             [
              0.2222222222222222,
              "#7201a8"
             ],
             [
              0.3333333333333333,
              "#9c179e"
             ],
             [
              0.4444444444444444,
              "#bd3786"
             ],
             [
              0.5555555555555556,
              "#d8576b"
             ],
             [
              0.6666666666666666,
              "#ed7953"
             ],
             [
              0.7777777777777778,
              "#fb9f3a"
             ],
             [
              0.8888888888888888,
              "#fdca26"
             ],
             [
              1,
              "#f0f921"
             ]
            ],
            "type": "histogram2dcontour"
           }
          ],
          "mesh3d": [
           {
            "colorbar": {
             "outlinewidth": 0,
             "ticks": ""
            },
            "type": "mesh3d"
           }
          ],
          "parcoords": [
           {
            "line": {
             "colorbar": {
              "outlinewidth": 0,
              "ticks": ""
             }
            },
            "type": "parcoords"
           }
          ],
          "pie": [
           {
            "automargin": true,
            "type": "pie"
           }
          ],
          "scatter": [
           {
            "fillpattern": {
             "fillmode": "overlay",
             "size": 10,
             "solidity": 0.2
            },
            "type": "scatter"
           }
          ],
          "scatter3d": [
           {
            "line": {
             "colorbar": {
              "outlinewidth": 0,
              "ticks": ""
             }
            },
            "marker": {
             "colorbar": {
              "outlinewidth": 0,
              "ticks": ""
             }
            },
            "type": "scatter3d"
           }
          ],
          "scattercarpet": [
           {
            "marker": {
             "colorbar": {
              "outlinewidth": 0,
              "ticks": ""
             }
            },
            "type": "scattercarpet"
           }
          ],
          "scattergeo": [
           {
            "marker": {
             "colorbar": {
              "outlinewidth": 0,
              "ticks": ""
             }
            },
            "type": "scattergeo"
           }
          ],
          "scattergl": [
           {
            "marker": {
             "colorbar": {
              "outlinewidth": 0,
              "ticks": ""
             }
            },
            "type": "scattergl"
           }
          ],
          "scattermapbox": [
           {
            "marker": {
             "colorbar": {
              "outlinewidth": 0,
              "ticks": ""
             }
            },
            "type": "scattermapbox"
           }
          ],
          "scatterpolar": [
           {
            "marker": {
             "colorbar": {
              "outlinewidth": 0,
              "ticks": ""
             }
            },
            "type": "scatterpolar"
           }
          ],
          "scatterpolargl": [
           {
            "marker": {
             "colorbar": {
              "outlinewidth": 0,
              "ticks": ""
             }
            },
            "type": "scatterpolargl"
           }
          ],
          "scatterternary": [
           {
            "marker": {
             "colorbar": {
              "outlinewidth": 0,
              "ticks": ""
             }
            },
            "type": "scatterternary"
           }
          ],
          "surface": [
           {
            "colorbar": {
             "outlinewidth": 0,
             "ticks": ""
            },
            "colorscale": [
             [
              0,
              "#0d0887"
             ],
             [
              0.1111111111111111,
              "#46039f"
             ],
             [
              0.2222222222222222,
              "#7201a8"
             ],
             [
              0.3333333333333333,
              "#9c179e"
             ],
             [
              0.4444444444444444,
              "#bd3786"
             ],
             [
              0.5555555555555556,
              "#d8576b"
             ],
             [
              0.6666666666666666,
              "#ed7953"
             ],
             [
              0.7777777777777778,
              "#fb9f3a"
             ],
             [
              0.8888888888888888,
              "#fdca26"
             ],
             [
              1,
              "#f0f921"
             ]
            ],
            "type": "surface"
           }
          ],
          "table": [
           {
            "cells": {
             "fill": {
              "color": "#EBF0F8"
             },
             "line": {
              "color": "white"
             }
            },
            "header": {
             "fill": {
              "color": "#C8D4E3"
             },
             "line": {
              "color": "white"
             }
            },
            "type": "table"
           }
          ]
         },
         "layout": {
          "annotationdefaults": {
           "arrowcolor": "#2a3f5f",
           "arrowhead": 0,
           "arrowwidth": 1
          },
          "autotypenumbers": "strict",
          "coloraxis": {
           "colorbar": {
            "outlinewidth": 0,
            "ticks": ""
           }
          },
          "colorscale": {
           "diverging": [
            [
             0,
             "#8e0152"
            ],
            [
             0.1,
             "#c51b7d"
            ],
            [
             0.2,
             "#de77ae"
            ],
            [
             0.3,
             "#f1b6da"
            ],
            [
             0.4,
             "#fde0ef"
            ],
            [
             0.5,
             "#f7f7f7"
            ],
            [
             0.6,
             "#e6f5d0"
            ],
            [
             0.7,
             "#b8e186"
            ],
            [
             0.8,
             "#7fbc41"
            ],
            [
             0.9,
             "#4d9221"
            ],
            [
             1,
             "#276419"
            ]
           ],
           "sequential": [
            [
             0,
             "#0d0887"
            ],
            [
             0.1111111111111111,
             "#46039f"
            ],
            [
             0.2222222222222222,
             "#7201a8"
            ],
            [
             0.3333333333333333,
             "#9c179e"
            ],
            [
             0.4444444444444444,
             "#bd3786"
            ],
            [
             0.5555555555555556,
             "#d8576b"
            ],
            [
             0.6666666666666666,
             "#ed7953"
            ],
            [
             0.7777777777777778,
             "#fb9f3a"
            ],
            [
             0.8888888888888888,
             "#fdca26"
            ],
            [
             1,
             "#f0f921"
            ]
           ],
           "sequentialminus": [
            [
             0,
             "#0d0887"
            ],
            [
             0.1111111111111111,
             "#46039f"
            ],
            [
             0.2222222222222222,
             "#7201a8"
            ],
            [
             0.3333333333333333,
             "#9c179e"
            ],
            [
             0.4444444444444444,
             "#bd3786"
            ],
            [
             0.5555555555555556,
             "#d8576b"
            ],
            [
             0.6666666666666666,
             "#ed7953"
            ],
            [
             0.7777777777777778,
             "#fb9f3a"
            ],
            [
             0.8888888888888888,
             "#fdca26"
            ],
            [
             1,
             "#f0f921"
            ]
           ]
          },
          "colorway": [
           "#636efa",
           "#EF553B",
           "#00cc96",
           "#ab63fa",
           "#FFA15A",
           "#19d3f3",
           "#FF6692",
           "#B6E880",
           "#FF97FF",
           "#FECB52"
          ],
          "font": {
           "color": "#2a3f5f"
          },
          "geo": {
           "bgcolor": "white",
           "lakecolor": "white",
           "landcolor": "#E5ECF6",
           "showlakes": true,
           "showland": true,
           "subunitcolor": "white"
          },
          "hoverlabel": {
           "align": "left"
          },
          "hovermode": "closest",
          "mapbox": {
           "style": "light"
          },
          "paper_bgcolor": "white",
          "plot_bgcolor": "#E5ECF6",
          "polar": {
           "angularaxis": {
            "gridcolor": "white",
            "linecolor": "white",
            "ticks": ""
           },
           "bgcolor": "#E5ECF6",
           "radialaxis": {
            "gridcolor": "white",
            "linecolor": "white",
            "ticks": ""
           }
          },
          "scene": {
           "xaxis": {
            "backgroundcolor": "#E5ECF6",
            "gridcolor": "white",
            "gridwidth": 2,
            "linecolor": "white",
            "showbackground": true,
            "ticks": "",
            "zerolinecolor": "white"
           },
           "yaxis": {
            "backgroundcolor": "#E5ECF6",
            "gridcolor": "white",
            "gridwidth": 2,
            "linecolor": "white",
            "showbackground": true,
            "ticks": "",
            "zerolinecolor": "white"
           },
           "zaxis": {
            "backgroundcolor": "#E5ECF6",
            "gridcolor": "white",
            "gridwidth": 2,
            "linecolor": "white",
            "showbackground": true,
            "ticks": "",
            "zerolinecolor": "white"
           }
          },
          "shapedefaults": {
           "line": {
            "color": "#2a3f5f"
           }
          },
          "ternary": {
           "aaxis": {
            "gridcolor": "white",
            "linecolor": "white",
            "ticks": ""
           },
           "baxis": {
            "gridcolor": "white",
            "linecolor": "white",
            "ticks": ""
           },
           "bgcolor": "#E5ECF6",
           "caxis": {
            "gridcolor": "white",
            "linecolor": "white",
            "ticks": ""
           }
          },
          "title": {
           "x": 0.05
          },
          "xaxis": {
           "automargin": true,
           "gridcolor": "white",
           "linecolor": "white",
           "ticks": "",
           "title": {
            "standoff": 15
           },
           "zerolinecolor": "white",
           "zerolinewidth": 2
          },
          "yaxis": {
           "automargin": true,
           "gridcolor": "white",
           "linecolor": "white",
           "ticks": "",
           "title": {
            "standoff": 15
           },
           "zerolinecolor": "white",
           "zerolinewidth": 2
          }
         }
        },
        "title": {
         "text": "Distribution of percent difference in read counts (positive values correspond to bwa yielding more reads than minimap2)"
        },
        "xaxis": {
         "anchor": "y",
         "domain": [
          0,
          1
         ]
        },
        "yaxis": {
         "anchor": "x",
         "domain": [
          0,
          1
         ],
         "title": {
          "text": "percent_difference"
         }
        }
       }
      },
      "text/html": [
       "<div>                            <div id=\"3ff3203f-03dd-4f52-885c-882aab4a5d34\" class=\"plotly-graph-div\" style=\"height:525px; width:100%;\"></div>            <script type=\"text/javascript\">                require([\"plotly\"], function(Plotly) {                    window.PLOTLYENV=window.PLOTLYENV || {};                                    if (document.getElementById(\"3ff3203f-03dd-4f52-885c-882aab4a5d34\")) {                    Plotly.newPlot(                        \"3ff3203f-03dd-4f52-885c-882aab4a5d34\",                        [{\"alignmentgroup\":\"True\",\"hovertemplate\":\"percent_difference=%{y}<extra></extra>\",\"legendgroup\":\"\",\"marker\":{\"color\":\"#636efa\"},\"name\":\"\",\"notched\":false,\"offsetgroup\":\"\",\"orientation\":\"v\",\"showlegend\":false,\"x0\":\" \",\"xaxis\":\"x\",\"y\":[0.04588056390524008,0.027295210215515068,0.12191200257263124,0.3773709424374323,0.3990539077846437,0.08008994531276713,0.019441202587469012,0.052263281130278776,0.009963145502142534,0.09195087792566885,0.42189356995177907,0.3729611166500499,0.3629505323967507,0.009010216198982538,0.01855043032116653,0.04579106886488819,0.012645065432568495,0.21229530372232921,14.27564633588447,0.5169886611532974,1.7224783423679013,0.07253315113839758,7.601026298909558,0.032682261971674176,0.7569684615560798,0.033539274264309804,0.2500095260239309,0.12097290968857052,0.0804305041187404,0.04110865797950946,0.3230419274417406,0.04241380572148379,0.019180693759880962,0.18480259824589196,1.4066209371273535,0.02459905477647788,0.0145225116301693,0.02054089400290976,0.03628533561380137,0.05676938335420639,0.195519160877766,0.2844570935290799,0.04384690562349772,0.014248865571087226,0.05361546985023412,0.05574522228801068,0.026764548443832685,0.05537209547051248,0.02528915692273109,0.05469752001983121,0.009028398682436269,0.07697317780804074,0.06937844135115517,0.023354491683342592,0.02911197688293391,0.009721056832368048,0.013432151830723282,0.015515622939331328,0.010632307250052177,0.013917123529382527,0.04063388866314506,0.2854077687589822,0.010970250053137148,0.0857848775062309,0.3014982367954488,0.033121153840801366,0.014295332343419996,0.012279045399723857,0.016511788649105293,0.0686252929523119,0.043895794825890774,0.04292994056712124,0.017442927963767674,0.048066615487824274,0.24772427894540236,0.01131436743634537,0.012464013959695633,0.016865819627725365,0.058422920806372174,0.009953318934198608,0.07709109597841449,0.06085868154833672,0.015925231040265952,0.02347441798752794,0.3372221409282588,0.02906722615613253,0.08098888104332735,0.10046040665074446,0.07525398218989088,0.09346222891545018,0.021635685760508314,0.5319764760826438,0.012019303000618993,0.11449507671170141,0.10781494058232015,0.04915463756971685,0.43881183985502603,0.015920704619572193,0.023961422110402253,0.021532157277980152,0.012417972393467593,0.008997684419450877,0.06916048873412038,0.09039843108500717,0.009959441034957637,0.08649186206123764,0.061585835257890686,0.05051420374576317,0.0272234453045475,0.022659643602284778,0.02124308096820352,0.09121006312544558,0.08303386085132028,0.07252362918539658,0.05119034775003501,0.05739795918367348,0.012097546550350996,0.009375169616555563,0.012300581482033697,0.2854542104496041,0.010920991907897287,0.07332146223944694,0.05032422877053218,0.08119092995216055,0.029655717382855308,0.2974031087415713],\"y0\":\" \",\"yaxis\":\"y\",\"type\":\"box\"}],                        {\"template\":{\"data\":{\"histogram2dcontour\":[{\"type\":\"histogram2dcontour\",\"colorbar\":{\"outlinewidth\":0,\"ticks\":\"\"},\"colorscale\":[[0.0,\"#0d0887\"],[0.1111111111111111,\"#46039f\"],[0.2222222222222222,\"#7201a8\"],[0.3333333333333333,\"#9c179e\"],[0.4444444444444444,\"#bd3786\"],[0.5555555555555556,\"#d8576b\"],[0.6666666666666666,\"#ed7953\"],[0.7777777777777778,\"#fb9f3a\"],[0.8888888888888888,\"#fdca26\"],[1.0,\"#f0f921\"]]}],\"choropleth\":[{\"type\":\"choropleth\",\"colorbar\":{\"outlinewidth\":0,\"ticks\":\"\"}}],\"histogram2d\":[{\"type\":\"histogram2d\",\"colorbar\":{\"outlinewidth\":0,\"ticks\":\"\"},\"colorscale\":[[0.0,\"#0d0887\"],[0.1111111111111111,\"#46039f\"],[0.2222222222222222,\"#7201a8\"],[0.3333333333333333,\"#9c179e\"],[0.4444444444444444,\"#bd3786\"],[0.5555555555555556,\"#d8576b\"],[0.6666666666666666,\"#ed7953\"],[0.7777777777777778,\"#fb9f3a\"],[0.8888888888888888,\"#fdca26\"],[1.0,\"#f0f921\"]]}],\"heatmap\":[{\"type\":\"heatmap\",\"colorbar\":{\"outlinewidth\":0,\"ticks\":\"\"},\"colorscale\":[[0.0,\"#0d0887\"],[0.1111111111111111,\"#46039f\"],[0.2222222222222222,\"#7201a8\"],[0.3333333333333333,\"#9c179e\"],[0.4444444444444444,\"#bd3786\"],[0.5555555555555556,\"#d8576b\"],[0.6666666666666666,\"#ed7953\"],[0.7777777777777778,\"#fb9f3a\"],[0.8888888888888888,\"#fdca26\"],[1.0,\"#f0f921\"]]}],\"heatmapgl\":[{\"type\":\"heatmapgl\",\"colorbar\":{\"outlinewidth\":0,\"ticks\":\"\"},\"colorscale\":[[0.0,\"#0d0887\"],[0.1111111111111111,\"#46039f\"],[0.2222222222222222,\"#7201a8\"],[0.3333333333333333,\"#9c179e\"],[0.4444444444444444,\"#bd3786\"],[0.5555555555555556,\"#d8576b\"],[0.6666666666666666,\"#ed7953\"],[0.7777777777777778,\"#fb9f3a\"],[0.8888888888888888,\"#fdca26\"],[1.0,\"#f0f921\"]]}],\"contourcarpet\":[{\"type\":\"contourcarpet\",\"colorbar\":{\"outlinewidth\":0,\"ticks\":\"\"}}],\"contour\":[{\"type\":\"contour\",\"colorbar\":{\"outlinewidth\":0,\"ticks\":\"\"},\"colorscale\":[[0.0,\"#0d0887\"],[0.1111111111111111,\"#46039f\"],[0.2222222222222222,\"#7201a8\"],[0.3333333333333333,\"#9c179e\"],[0.4444444444444444,\"#bd3786\"],[0.5555555555555556,\"#d8576b\"],[0.6666666666666666,\"#ed7953\"],[0.7777777777777778,\"#fb9f3a\"],[0.8888888888888888,\"#fdca26\"],[1.0,\"#f0f921\"]]}],\"surface\":[{\"type\":\"surface\",\"colorbar\":{\"outlinewidth\":0,\"ticks\":\"\"},\"colorscale\":[[0.0,\"#0d0887\"],[0.1111111111111111,\"#46039f\"],[0.2222222222222222,\"#7201a8\"],[0.3333333333333333,\"#9c179e\"],[0.4444444444444444,\"#bd3786\"],[0.5555555555555556,\"#d8576b\"],[0.6666666666666666,\"#ed7953\"],[0.7777777777777778,\"#fb9f3a\"],[0.8888888888888888,\"#fdca26\"],[1.0,\"#f0f921\"]]}],\"mesh3d\":[{\"type\":\"mesh3d\",\"colorbar\":{\"outlinewidth\":0,\"ticks\":\"\"}}],\"scatter\":[{\"fillpattern\":{\"fillmode\":\"overlay\",\"size\":10,\"solidity\":0.2},\"type\":\"scatter\"}],\"parcoords\":[{\"type\":\"parcoords\",\"line\":{\"colorbar\":{\"outlinewidth\":0,\"ticks\":\"\"}}}],\"scatterpolargl\":[{\"type\":\"scatterpolargl\",\"marker\":{\"colorbar\":{\"outlinewidth\":0,\"ticks\":\"\"}}}],\"bar\":[{\"error_x\":{\"color\":\"#2a3f5f\"},\"error_y\":{\"color\":\"#2a3f5f\"},\"marker\":{\"line\":{\"color\":\"#E5ECF6\",\"width\":0.5},\"pattern\":{\"fillmode\":\"overlay\",\"size\":10,\"solidity\":0.2}},\"type\":\"bar\"}],\"scattergeo\":[{\"type\":\"scattergeo\",\"marker\":{\"colorbar\":{\"outlinewidth\":0,\"ticks\":\"\"}}}],\"scatterpolar\":[{\"type\":\"scatterpolar\",\"marker\":{\"colorbar\":{\"outlinewidth\":0,\"ticks\":\"\"}}}],\"histogram\":[{\"marker\":{\"pattern\":{\"fillmode\":\"overlay\",\"size\":10,\"solidity\":0.2}},\"type\":\"histogram\"}],\"scattergl\":[{\"type\":\"scattergl\",\"marker\":{\"colorbar\":{\"outlinewidth\":0,\"ticks\":\"\"}}}],\"scatter3d\":[{\"type\":\"scatter3d\",\"line\":{\"colorbar\":{\"outlinewidth\":0,\"ticks\":\"\"}},\"marker\":{\"colorbar\":{\"outlinewidth\":0,\"ticks\":\"\"}}}],\"scattermapbox\":[{\"type\":\"scattermapbox\",\"marker\":{\"colorbar\":{\"outlinewidth\":0,\"ticks\":\"\"}}}],\"scatterternary\":[{\"type\":\"scatterternary\",\"marker\":{\"colorbar\":{\"outlinewidth\":0,\"ticks\":\"\"}}}],\"scattercarpet\":[{\"type\":\"scattercarpet\",\"marker\":{\"colorbar\":{\"outlinewidth\":0,\"ticks\":\"\"}}}],\"carpet\":[{\"aaxis\":{\"endlinecolor\":\"#2a3f5f\",\"gridcolor\":\"white\",\"linecolor\":\"white\",\"minorgridcolor\":\"white\",\"startlinecolor\":\"#2a3f5f\"},\"baxis\":{\"endlinecolor\":\"#2a3f5f\",\"gridcolor\":\"white\",\"linecolor\":\"white\",\"minorgridcolor\":\"white\",\"startlinecolor\":\"#2a3f5f\"},\"type\":\"carpet\"}],\"table\":[{\"cells\":{\"fill\":{\"color\":\"#EBF0F8\"},\"line\":{\"color\":\"white\"}},\"header\":{\"fill\":{\"color\":\"#C8D4E3\"},\"line\":{\"color\":\"white\"}},\"type\":\"table\"}],\"barpolar\":[{\"marker\":{\"line\":{\"color\":\"#E5ECF6\",\"width\":0.5},\"pattern\":{\"fillmode\":\"overlay\",\"size\":10,\"solidity\":0.2}},\"type\":\"barpolar\"}],\"pie\":[{\"automargin\":true,\"type\":\"pie\"}]},\"layout\":{\"autotypenumbers\":\"strict\",\"colorway\":[\"#636efa\",\"#EF553B\",\"#00cc96\",\"#ab63fa\",\"#FFA15A\",\"#19d3f3\",\"#FF6692\",\"#B6E880\",\"#FF97FF\",\"#FECB52\"],\"font\":{\"color\":\"#2a3f5f\"},\"hovermode\":\"closest\",\"hoverlabel\":{\"align\":\"left\"},\"paper_bgcolor\":\"white\",\"plot_bgcolor\":\"#E5ECF6\",\"polar\":{\"bgcolor\":\"#E5ECF6\",\"angularaxis\":{\"gridcolor\":\"white\",\"linecolor\":\"white\",\"ticks\":\"\"},\"radialaxis\":{\"gridcolor\":\"white\",\"linecolor\":\"white\",\"ticks\":\"\"}},\"ternary\":{\"bgcolor\":\"#E5ECF6\",\"aaxis\":{\"gridcolor\":\"white\",\"linecolor\":\"white\",\"ticks\":\"\"},\"baxis\":{\"gridcolor\":\"white\",\"linecolor\":\"white\",\"ticks\":\"\"},\"caxis\":{\"gridcolor\":\"white\",\"linecolor\":\"white\",\"ticks\":\"\"}},\"coloraxis\":{\"colorbar\":{\"outlinewidth\":0,\"ticks\":\"\"}},\"colorscale\":{\"sequential\":[[0.0,\"#0d0887\"],[0.1111111111111111,\"#46039f\"],[0.2222222222222222,\"#7201a8\"],[0.3333333333333333,\"#9c179e\"],[0.4444444444444444,\"#bd3786\"],[0.5555555555555556,\"#d8576b\"],[0.6666666666666666,\"#ed7953\"],[0.7777777777777778,\"#fb9f3a\"],[0.8888888888888888,\"#fdca26\"],[1.0,\"#f0f921\"]],\"sequentialminus\":[[0.0,\"#0d0887\"],[0.1111111111111111,\"#46039f\"],[0.2222222222222222,\"#7201a8\"],[0.3333333333333333,\"#9c179e\"],[0.4444444444444444,\"#bd3786\"],[0.5555555555555556,\"#d8576b\"],[0.6666666666666666,\"#ed7953\"],[0.7777777777777778,\"#fb9f3a\"],[0.8888888888888888,\"#fdca26\"],[1.0,\"#f0f921\"]],\"diverging\":[[0,\"#8e0152\"],[0.1,\"#c51b7d\"],[0.2,\"#de77ae\"],[0.3,\"#f1b6da\"],[0.4,\"#fde0ef\"],[0.5,\"#f7f7f7\"],[0.6,\"#e6f5d0\"],[0.7,\"#b8e186\"],[0.8,\"#7fbc41\"],[0.9,\"#4d9221\"],[1,\"#276419\"]]},\"xaxis\":{\"gridcolor\":\"white\",\"linecolor\":\"white\",\"ticks\":\"\",\"title\":{\"standoff\":15},\"zerolinecolor\":\"white\",\"automargin\":true,\"zerolinewidth\":2},\"yaxis\":{\"gridcolor\":\"white\",\"linecolor\":\"white\",\"ticks\":\"\",\"title\":{\"standoff\":15},\"zerolinecolor\":\"white\",\"automargin\":true,\"zerolinewidth\":2},\"scene\":{\"xaxis\":{\"backgroundcolor\":\"#E5ECF6\",\"gridcolor\":\"white\",\"linecolor\":\"white\",\"showbackground\":true,\"ticks\":\"\",\"zerolinecolor\":\"white\",\"gridwidth\":2},\"yaxis\":{\"backgroundcolor\":\"#E5ECF6\",\"gridcolor\":\"white\",\"linecolor\":\"white\",\"showbackground\":true,\"ticks\":\"\",\"zerolinecolor\":\"white\",\"gridwidth\":2},\"zaxis\":{\"backgroundcolor\":\"#E5ECF6\",\"gridcolor\":\"white\",\"linecolor\":\"white\",\"showbackground\":true,\"ticks\":\"\",\"zerolinecolor\":\"white\",\"gridwidth\":2}},\"shapedefaults\":{\"line\":{\"color\":\"#2a3f5f\"}},\"annotationdefaults\":{\"arrowcolor\":\"#2a3f5f\",\"arrowhead\":0,\"arrowwidth\":1},\"geo\":{\"bgcolor\":\"white\",\"landcolor\":\"#E5ECF6\",\"subunitcolor\":\"white\",\"showland\":true,\"showlakes\":true,\"lakecolor\":\"white\"},\"title\":{\"x\":0.05},\"mapbox\":{\"style\":\"light\"}}},\"xaxis\":{\"anchor\":\"y\",\"domain\":[0.0,1.0]},\"yaxis\":{\"anchor\":\"x\",\"domain\":[0.0,1.0],\"title\":{\"text\":\"percent_difference\"}},\"legend\":{\"tracegroupgap\":0},\"title\":{\"text\":\"Distribution of percent difference in read counts (positive values correspond to bwa yielding more reads than minimap2)\"},\"boxmode\":\"group\"},                        {\"responsive\": true}                    ).then(function(){\n",
       "                            \n",
       "var gd = document.getElementById('3ff3203f-03dd-4f52-885c-882aab4a5d34');\n",
       "var x = new MutationObserver(function (mutations, observer) {{\n",
       "        var display = window.getComputedStyle(gd).display;\n",
       "        if (!display || display === 'none') {{\n",
       "            console.log([gd, 'removed!']);\n",
       "            Plotly.purge(gd);\n",
       "            observer.disconnect();\n",
       "        }}\n",
       "}});\n",
       "\n",
       "// Listen for the removal of the full notebook cells\n",
       "var notebookContainer = gd.closest('#notebook-container');\n",
       "if (notebookContainer) {{\n",
       "    x.observe(notebookContainer, {childList: true});\n",
       "}}\n",
       "\n",
       "// Listen for the clearing of the current output cell\n",
       "var outputEl = gd.closest('.output');\n",
       "if (outputEl) {{\n",
       "    x.observe(outputEl, {childList: true});\n",
       "}}\n",
       "\n",
       "                        })                };                });            </script>        </div>"
      ]
     },
     "metadata": {},
     "output_type": "display_data"
    }
   ],
   "source": [
    "px.box(wide_df, y=\"percent_difference\", title=\"Distribution of percent difference in read counts (positive values correspond to bwa yielding more reads than minimap2)\")"
   ]
  }
 ],
 "metadata": {
  "kernelspec": {
   "display_name": "env-plot",
   "language": "python",
   "name": "python3"
  },
  "language_info": {
   "codemirror_mode": {
    "name": "ipython",
    "version": 3
   },
   "file_extension": ".py",
   "mimetype": "text/x-python",
   "name": "python",
   "nbconvert_exporter": "python",
   "pygments_lexer": "ipython3",
   "version": "3.11.3"
  }
 },
 "nbformat": 4,
 "nbformat_minor": 2
}
